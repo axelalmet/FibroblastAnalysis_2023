{
 "cells": [
  {
   "cell_type": "code",
   "execution_count": null,
   "id": "88896b78",
   "metadata": {},
   "outputs": [],
   "source": [
    "# Load the relevant packages.\n",
    "import numpy as np\n",
    "import pandas as pd\n",
    "import scanpy as sc\n",
    "import matplotlib.pyplot as plt\n",
    "import seaborn as sns\n",
    "import anndata\n",
    "import scvelo as scv\n",
    "from scipy import sparse\n",
    "\n",
    "sc.settings.verbosity = 3 # Possible values: (0) errors, (1) warnings, (2) info, (3) hints\n",
    "sc.settings.set_figure_params(dpi = 100, facecolor='white', fontsize=18, transparent=True)\n",
    "scv.settings.set_figure_params('scvelo')"
   ]
  },
  {
   "cell_type": "code",
   "execution_count": null,
   "id": "b0b0aa9d",
   "metadata": {},
   "outputs": [],
   "source": [
    "# Load the processed fibroblast data\n",
    "results_directory = '../data/' # Initialise the results file"
   ]
  },
  {
   "cell_type": "code",
   "execution_count": null,
   "id": "c48a56c4",
   "metadata": {},
   "outputs": [],
   "source": [
    "# Load the file\n",
    "file_name = 'integratedfibroblastsdata.h5ad'\n",
    "fibroblasts_merged = sc.read_h5ad(results_directory + file_name)"
   ]
  },
  {
   "cell_type": "code",
   "execution_count": null,
   "id": "e712b0fa",
   "metadata": {},
   "outputs": [],
   "source": [
    "# Change the sample colours to match the paper\n",
    "new_sample_colours = ['#3284fc','#393b79', '#c1c1ea', '#6b6ecf','#edca8b', '#c39d15', '#f1919b', '#e75868']\n",
    "fibroblasts_merged.uns['sample_colors'] = new_sample_colours"
   ]
  },
  {
   "cell_type": "markdown",
   "id": "dcbe980c",
   "metadata": {},
   "source": [
    "# RNA Velocity"
   ]
  },
  {
   "cell_type": "markdown",
   "id": "f3af46b8",
   "metadata": {},
   "source": [
    "Run RNA velocity on a copy of the original scanpy object, as RNA velocity analysis will filter out genes."
   ]
  },
  {
   "cell_type": "code",
   "execution_count": null,
   "id": "b6969c31",
   "metadata": {},
   "outputs": [],
   "source": [
    "fib_rna = fibroblasts_merged.copy()"
   ]
  },
  {
   "cell_type": "code",
   "execution_count": null,
   "id": "08914824",
   "metadata": {},
   "outputs": [],
   "source": [
    "scv.pp.filter_and_normalize(fib_rna, min_shared_counts=20)"
   ]
  },
  {
   "cell_type": "markdown",
   "id": "0873fbe8",
   "metadata": {},
   "source": [
    "We use the integrated latent embedding produced by Scanorama to try and account for the multiple conditions."
   ]
  },
  {
   "cell_type": "code",
   "execution_count": null,
   "id": "f61ad58c",
   "metadata": {},
   "outputs": [],
   "source": [
    "scv.pp.moments(fib_rna, use_rep='X_SC_FIB', n_neighbors=30) "
   ]
  },
  {
   "cell_type": "code",
   "execution_count": null,
   "id": "8c7ecf7b",
   "metadata": {},
   "outputs": [],
   "source": [
    "scv.tl.recover_dynamics(fib_rna)\n",
    "scv.tl.velocity(fib_rna, mode='dynamical')"
   ]
  },
  {
   "cell_type": "code",
   "execution_count": null,
   "id": "cfd36945",
   "metadata": {},
   "outputs": [],
   "source": [
    "scv.tl.velocity_graph(fib_rna)"
   ]
  },
  {
   "cell_type": "code",
   "execution_count": null,
   "id": "ffc10f04",
   "metadata": {},
   "outputs": [],
   "source": [
    "scv.tl.velocity_pseudotime(fib_rna)"
   ]
  },
  {
   "cell_type": "markdown",
   "id": "687b8b18",
   "metadata": {},
   "source": [
    "## Subclusters as partitions"
   ]
  },
  {
   "cell_type": "code",
   "execution_count": null,
   "id": "afa253c5",
   "metadata": {},
   "outputs": [],
   "source": [
    "scv.pl.velocity_embedding_stream(fib_rna, basis='umap', color='leiden_sub', legend_fontoutline=2.5)"
   ]
  },
  {
   "cell_type": "code",
   "execution_count": null,
   "id": "328b96be",
   "metadata": {},
   "outputs": [],
   "source": [
    "# this is needed due to a current bug - bugfix is coming soon.\n",
    "fib_rna.uns['neighbors']['distances'] = fib_rna.obsp['distances']\n",
    "fib_rna.uns['neighbors']['connectivities'] = fib_rna.obsp['connectivities']\n",
    "\n",
    "scv.tl.paga(fib_rna, groups='leiden_sub')"
   ]
  },
  {
   "cell_type": "code",
   "execution_count": null,
   "id": "a8cfacca",
   "metadata": {},
   "outputs": [],
   "source": [
    "scv.pl.paga(fib_rna, basis='umap', size=50, alpha=.1,\n",
    "            legend_fontoutline=2.5, legend_loc = 'right',\n",
    "            min_edge_width=2, node_size_scale=1.5,)"
   ]
  },
  {
   "cell_type": "markdown",
   "id": "9f32dfaa",
   "metadata": {},
   "source": [
    "## Wound healing times as partitions"
   ]
  },
  {
   "cell_type": "code",
   "execution_count": null,
   "id": "8597d287",
   "metadata": {},
   "outputs": [],
   "source": [
    "scv.pl.velocity_embedding_stream(fib_rna, basis='umap', color='sample', legend_fontoutline=2.5, legend_loc = 'right')"
   ]
  },
  {
   "cell_type": "code",
   "execution_count": null,
   "id": "ada5bb1c",
   "metadata": {},
   "outputs": [],
   "source": [
    "# this is needed due to a current bug - bugfix is coming soon.\n",
    "fib_rna.uns['neighbors']['distances'] = fib_rna.obsp['distances']\n",
    "fib_rna.uns['neighbors']['connectivities'] = fib_rna.obsp['connectivities']\n",
    "\n",
    "scv.tl.paga(fib_rna, groups='sample')"
   ]
  },
  {
   "cell_type": "code",
   "execution_count": null,
   "id": "a76b82e8",
   "metadata": {},
   "outputs": [],
   "source": [
    "scv.pl.paga(fib_rna, basis='umap', size=50, alpha=.1,\n",
    "            legend_fontoutline=2.5, legend_loc = 'right',\n",
    "            min_edge_width=2, node_size_scale=1.5,)"
   ]
  },
  {
   "cell_type": "markdown",
   "id": "7792ee71",
   "metadata": {},
   "source": [
    "# PAGA"
   ]
  },
  {
   "cell_type": "markdown",
   "id": "f7e6645f",
   "metadata": {},
   "source": [
    "## Subclusters as partitions"
   ]
  },
  {
   "cell_type": "code",
   "execution_count": null,
   "id": "be33c6d3",
   "metadata": {},
   "outputs": [],
   "source": [
    "sc.tl.paga(fibroblasts_merged, groups='leiden_sub')"
   ]
  },
  {
   "cell_type": "code",
   "execution_count": null,
   "id": "9d883b41",
   "metadata": {},
   "outputs": [],
   "source": [
    "sc.pl.paga(fibroblasts_merged, color='leiden_sub')"
   ]
  },
  {
   "cell_type": "markdown",
   "id": "b7c03d52",
   "metadata": {},
   "source": [
    "## Wound healing times as partitions"
   ]
  },
  {
   "cell_type": "code",
   "execution_count": null,
   "id": "ce763440",
   "metadata": {},
   "outputs": [],
   "source": [
    "sc.tl.paga(fibroblasts_merged, groups='sample')"
   ]
  },
  {
   "cell_type": "code",
   "execution_count": null,
   "id": "67e164df",
   "metadata": {},
   "outputs": [],
   "source": [
    "sc.pl.paga(fibroblasts_merged, color='sample')"
   ]
  }
 ],
 "metadata": {
  "kernelspec": {
   "display_name": "Python 3 (ipykernel)",
   "language": "python",
   "name": "python3"
  },
  "language_info": {
   "codemirror_mode": {
    "name": "ipython",
    "version": 3
   },
   "file_extension": ".py",
   "mimetype": "text/x-python",
   "name": "python",
   "nbconvert_exporter": "python",
   "pygments_lexer": "ipython3",
   "version": "3.8.14"
  }
 },
 "nbformat": 4,
 "nbformat_minor": 5
}
