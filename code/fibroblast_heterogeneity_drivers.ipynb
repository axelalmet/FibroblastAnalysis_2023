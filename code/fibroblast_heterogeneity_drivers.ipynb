{
 "cells": [
  {
   "cell_type": "code",
   "execution_count": null,
   "id": "e383093c",
   "metadata": {},
   "outputs": [],
   "source": [
    "# Where we will load the h5ad file\n",
    "results_directory = '../data/'"
   ]
  },
  {
   "cell_type": "code",
   "execution_count": null,
   "id": "40d08df9",
   "metadata": {},
   "outputs": [],
   "source": [
    "# Load the relevant packages.\n",
    "# First load the packages.\n",
    "import numpy as np\n",
    "import pandas as pd\n",
    "import scanpy as sc\n",
    "import matplotlib.pyplot as plt\n",
    "from matplotlib import gridspec\n",
    "import seaborn as sns\n",
    "from itertools import product\n",
    "\n",
    "sc.settings.verbosity = 3 # Possible values: (0) errors, (1) warnings, (2) info, (3) hints\n",
    "sc.settings.set_figure_params(dpi = 100, facecolor='white', fontsize=18, transparent=True)"
   ]
  },
  {
   "cell_type": "markdown",
   "id": "fd390c2a",
   "metadata": {},
   "source": [
    "We also define a custom colour map for visualisation of marker genes."
   ]
  },
  {
   "cell_type": "code",
   "execution_count": null,
   "id": "c1d47db0",
   "metadata": {},
   "outputs": [],
   "source": [
    "# Create the custom colourmap\n",
    "import matplotlib as mpl\n",
    "from copy import copy\n",
    "colour_map = copy(mpl.cm.get_cmap('hot_r'))\n",
    "colour_map.set_under('lightgray')"
   ]
  },
  {
   "cell_type": "code",
   "execution_count": null,
   "id": "d428d72f",
   "metadata": {},
   "outputs": [],
   "source": [
    "# Load the data\n",
    "file_name = 'integratedfibroblastsdata.h5ad'\n",
    "fibroblasts_merged = sc.read_h5ad(results_directory + file_name)"
   ]
  },
  {
   "cell_type": "code",
   "execution_count": null,
   "id": "46d7007a",
   "metadata": {},
   "outputs": [],
   "source": [
    "# Defining these variables for use later\n",
    "sample_order = ['UW P21', 'UW P49', 'SW PWD4', 'SW PWD7', 'LW PWD12', 'LW PWD14', 'LW FIB PWD18', 'LW REG PWD18']\n",
    "fibroblast_clusters = fibroblasts_merged.obs['leiden_sub'].value_counts().index.tolist()"
   ]
  },
  {
   "cell_type": "markdown",
   "id": "f29a2d17",
   "metadata": {},
   "source": [
    "Plot the UMAP of clusters just to make sure colours have been initialised."
   ]
  },
  {
   "cell_type": "code",
   "execution_count": null,
   "id": "97bfb2a7",
   "metadata": {},
   "outputs": [],
   "source": [
    "sc.pl.umap(fibroblasts_merged, color='leiden_sub')"
   ]
  },
  {
   "cell_type": "markdown",
   "id": "1bfd6304",
   "metadata": {},
   "source": [
    "# Marker genes"
   ]
  },
  {
   "cell_type": "markdown",
   "id": "d81135b7",
   "metadata": {},
   "source": [
    "Plot discriminatory marker genes using a version of a tracks plot, where we calculate the average binned expression (ten bins) per subcluster."
   ]
  },
  {
   "cell_type": "code",
   "execution_count": null,
   "id": "8c591068",
   "metadata": {},
   "outputs": [],
   "source": [
    "fibroblast_marker_genes_tracksplot = {'FIB-I': ['Crabp1', 'Col7a1',],\n",
    "                     'FIB-II': ['Col14a1', 'Mgp'],\n",
    "                     'FIB-III': ['Pcolce2', 'Ndufa4l2'],\n",
    "                     'FIB-IV': ['Plac8', 'Ptx3'],\n",
    "                     'FIB-V':['Tyrobp', 'Lyz2'],\n",
    "                     'FIB-VI': ['Col5a3', 'Prss23'],\n",
    "                     'FIB-VII': ['Igfbp2', 'Megf6'],\n",
    "                    'FIB-VIII': ['Igfbp3', 'Bmp4'],\n",
    "                     'FIB-IX': ['Coch', 'Dkk2'],\n",
    "                     'FIB-X': ['Lgals7', 'S100a14'],\n",
    "                     'FIB-XI': ['Nr2f2', 'Cldn1']}\n",
    "\n",
    "keys = ['leiden_sub']\n",
    "\n",
    "for category in fibroblast_marker_genes_tracksplot:\n",
    "    genes = fibroblast_marker_genes_tracksplot[category]\n",
    "    \n",
    "    for gene in genes:\n",
    "        if gene not in keys:\n",
    "            keys.append(gene)\n",
    "            \n",
    "groupby_colors = fibroblasts_merged.uns['leiden_sub_colors'] # If this doesn't work"
   ]
  },
  {
   "cell_type": "code",
   "execution_count": null,
   "id": "a0b96ced",
   "metadata": {},
   "outputs": [],
   "source": [
    "# Prepare the data for the tracksplot\n",
    "obs_tidy = sc.get.obs_df(fibroblasts_merged, keys=keys, use_raw=True)\n",
    "obs_tidy['leiden_sub'] = pd.Categorical(obs_tidy['leiden_sub'],categories=categories,ordered=True)\n",
    "obs_tidy = obs_tidy.sort_values('leiden_sub',ascending=True)\n",
    "tracksplot_genes = list(obs_tidy.columns[1:])\n",
    "\n",
    "# Create the trackplot\n",
    "nbins = 10\n",
    "\n",
    "# obtain the start and end of each category and make\n",
    "# a list of ranges that will be used to plot a different\n",
    "# color\n",
    "cumsum = [0] + list(np.cumsum(obs_tidy['leiden_sub'].value_counts(sort=False)))\n",
    "x_values = [(x, y) for x, y in zip(cumsum[:-1], cumsum[1:])]\n",
    "\n",
    "dendro_height = 0\n",
    "\n",
    "groupby_height = 0.24\n",
    "# +2 because of dendrogram on top and categories at bottom\n",
    "num_rows = len(tracksplot_genes) + 2\n",
    "width = 12\n",
    "track_height = 0.25\n",
    "\n",
    "height_ratios = [dendro_height] + [track_height] * len(tracksplot_genes) + [groupby_height]\n",
    "height = 2*sum(height_ratios)\n",
    "\n",
    "obs_tidy = obs_tidy.T\n",
    "\n",
    "fig = plt.figure(figsize=(width, height))\n",
    "axs = gridspec.GridSpec(\n",
    "    ncols=2,\n",
    "    nrows=num_rows,\n",
    "    wspace=1.0 / width,\n",
    "    hspace=0,\n",
    "    height_ratios=height_ratios,\n",
    "    width_ratios=[width, 0.14],\n",
    ")\n",
    "axs_list = []\n",
    "first_ax = None\n",
    "for idx, var in enumerate(tracksplot_genes):\n",
    "    ax_idx = idx + 1  # this is because of the dendrogram\n",
    "    if first_ax is None:\n",
    "        ax = fig.add_subplot(axs[ax_idx, 0])\n",
    "        first_ax = ax\n",
    "    else:\n",
    "        ax = fig.add_subplot(axs[ax_idx, 0], sharex=first_ax)\n",
    "    axs_list.append(ax)\n",
    "    for cat_idx, category in enumerate(categories):\n",
    "        x_start, x_end = x_values[cat_idx]\n",
    "        expression_values = np.sort(obs_tidy.iloc[idx + 1, x_start:x_end].to_numpy()) # Get the expression_values\n",
    "        average_expressions = np.zeros(nbins)\n",
    "\n",
    "        num = int(np.floor(np.size(expression_values)/nbins))\n",
    "\n",
    "        for ave_idx in range(nbins):\n",
    "            if ave_idx < nbins - 1:\n",
    "                average_expressions[ave_idx] = np.mean(expression_values[num*(ave_idx):num*(1 +ave_idx)])\n",
    "            else:\n",
    "                average_expressions[ave_idx] = np.mean(expression_values[num*(ave_idx):])\n",
    "\n",
    "        ax.fill_between(\n",
    "            range(cat_idx*10, (cat_idx + 1)*10),\n",
    "            0,\n",
    "            average_expressions,\n",
    "            lw=0.1,\n",
    "            color=groupby_colors[cat_idx],\n",
    "        )\n",
    "\n",
    "    # remove the xticks labels except for the last processed plot.\n",
    "    # Because the plots share the x axis it is redundant and less compact\n",
    "    # to plot the axis for each plot\n",
    "    if idx < len(tracksplot_genes) - 1:\n",
    "        ax.tick_params(labelbottom=False, labeltop=False, bottom=False, top=False)\n",
    "        ax.set_xlabel('')\n",
    "#     if log:\n",
    "#         ax.set_yscale('log')\n",
    "    ax.spines['left'].set_visible(False)\n",
    "    ax.spines['top'].set_visible(False)\n",
    "    ax.spines['bottom'].set_visible(False)\n",
    "    ax.grid(False)\n",
    "    ymin, ymax = ax.get_ylim()\n",
    "    ymax = int(ymax)\n",
    "    ax.set_yticks([ymax])\n",
    "    ax.set_yticklabels([str(ymax)], ha='left', va='top')\n",
    "    ax.spines['right'].set_position(('axes', 1.01))\n",
    "    ax.tick_params(\n",
    "        axis='y',\n",
    "        labelsize='x-small',\n",
    "        right=True,\n",
    "        left=False,\n",
    "        length=2,\n",
    "        which='both',\n",
    "        labelright=True,\n",
    "        labelleft=False,\n",
    "        direction='in',\n",
    "    )\n",
    "    ax.set_ylabel(var, rotation=0, fontsize='small', ha='right', va='bottom')\n",
    "    ax.yaxis.set_label_coords(-0.005, 0.1)\n",
    "# ax.set_xlim(0, x_end\n",
    "ax.set_xlim(0, len(categories)*10)\n",
    "ax.tick_params(axis='x', bottom=False, labelbottom=False)\n",
    "\n",
    "# the ax to plot the groupby categories is split to add a small space\n",
    "# between the rest of the plot and the categories\n",
    "axs2 = gridspec.GridSpecFromSubplotSpec(\n",
    "    2, 1, subplot_spec=axs[num_rows - 1, 0], height_ratios=[1, 1]\n",
    ")\n",
    "\n",
    "groupby_ax = fig.add_subplot(axs2[1])\n"
   ]
  },
  {
   "cell_type": "markdown",
   "id": "19415317",
   "metadata": {},
   "source": [
    "# Upper and lower dermis markers"
   ]
  },
  {
   "cell_type": "markdown",
   "id": "a5cdaacf",
   "metadata": {},
   "source": [
    "Define the upper and lower dermis markers based on previous reportings in the literature."
   ]
  },
  {
   "cell_type": "code",
   "execution_count": null,
   "id": "c3c2a8d8",
   "metadata": {},
   "outputs": [],
   "source": [
    "upper_markers = ['Dpp4', 'Prdm1', 'Lef1', 'Prss35', 'Runx1', 'Crabp1', 'Fabp5']\n",
    "lower_markers = ['Dlk1', 'Ly6a', 'Fmo1', 'Cnn1', 'Mest']"
   ]
  },
  {
   "cell_type": "code",
   "execution_count": null,
   "id": "11553eb5",
   "metadata": {},
   "outputs": [],
   "source": [
    "sc.tl.score_genes(fibroblasts_merged, gene_list=upper_markers, score_name='Upper')\n",
    "sc.tl.score_genes(fibroblasts_merged, gene_list=lower_markers, score_name='Lower')"
   ]
  },
  {
   "cell_type": "markdown",
   "id": "2f96e08e",
   "metadata": {},
   "source": [
    "Plot the split violin plot to see whether clusters can be classified as consisting predominantly of \"upper\" or \"lower\" fibroblasts."
   ]
  },
  {
   "cell_type": "code",
   "execution_count": null,
   "id": "129ab0f1",
   "metadata": {},
   "outputs": [],
   "source": [
    "plt.rcParams['figure.figsize']=(8, 6) #rescale figures\n",
    "df = sc.get.obs_df(fibroblasts_merged, ['Upper', 'Lower', 'leiden_sub'])\n",
    "df = df.set_index('leiden_sub').stack().reset_index()\n",
    "df.columns = ['leiden_sub', 'Position', 'Score']\n",
    "import seaborn as sns\n",
    "sns.violinplot(data=df, x='leiden_sub', y='Score', hue=\"Position\",\n",
    "                split=True, inner=\"quartile\", rotation=90, linewidth=1.5)"
   ]
  },
  {
   "cell_type": "markdown",
   "id": "f6636d9b",
   "metadata": {},
   "source": [
    "Upper dermal markers."
   ]
  },
  {
   "cell_type": "code",
   "execution_count": null,
   "id": "d0a9f358",
   "metadata": {},
   "outputs": [],
   "source": [
    "plt.rcParams['figure.figsize']=(6, 6) #rescale figures\n",
    "sc.pl.umap(fibroblasts_merged, color='Upper', size=10, cmap=colour_map, vmin=0.0001)"
   ]
  },
  {
   "cell_type": "markdown",
   "id": "a4c79859",
   "metadata": {},
   "source": [
    "Lower dermal markers."
   ]
  },
  {
   "cell_type": "code",
   "execution_count": null,
   "id": "126fb1ab",
   "metadata": {},
   "outputs": [],
   "source": [
    "sc.pl.umap(fibroblasts_merged, color='Lower', size=10, cmap=colour_map, vmin=0.0001)"
   ]
  },
  {
   "cell_type": "markdown",
   "id": "173245ee",
   "metadata": {},
   "source": [
    "# Compositional changes over time"
   ]
  },
  {
   "cell_type": "markdown",
   "id": "589e45dc",
   "metadata": {},
   "source": [
    "Plot the subcluster composition for each wound healing condition."
   ]
  },
  {
   "cell_type": "code",
   "execution_count": null,
   "id": "5681e595",
   "metadata": {},
   "outputs": [],
   "source": [
    "fibroblast_merged_df = fibroblasts_merged.obs\n",
    "\n",
    "tmp = pd.crosstab(fibroblast_merged_df['sample'], fibroblast_merged_df['leiden_sub'], normalize='index')\n",
    "tmp = tmp.reindex(sample_order)"
   ]
  },
  {
   "cell_type": "code",
   "execution_count": null,
   "id": "5efa3fa6",
   "metadata": {},
   "outputs": [],
   "source": [
    "axis = tmp.plot.bar(stacked=True, width=0.9, grid=False, figsize=(6,10), linewidth=1.0, color=fibroblasts_merged.uns['leiden_sub_colors'].tolist())\n",
    "# axis.invert_yaxis()\n",
    "plt.legend(loc='center left', bbox_to_anchor=(1.0, 0.5))\n",
    "fig = axis.get_figure()"
   ]
  },
  {
   "cell_type": "markdown",
   "id": "ae8d0b79",
   "metadata": {},
   "source": [
    "We now calculate the Bray-Curtis \"similarity\" to quantify the compositional differences between wound healing times."
   ]
  },
  {
   "cell_type": "code",
   "execution_count": null,
   "id": "da7970f1",
   "metadata": {},
   "outputs": [],
   "source": [
    "fibroblast_sample_braycurtis =  np.zeros((len(sample_order), len(sample_order)))"
   ]
  },
  {
   "cell_type": "code",
   "execution_count": null,
   "id": "69cfff83",
   "metadata": {},
   "outputs": [],
   "source": [
    "# Calculate the Bray-Curtis dissimilarities between samples\n",
    "for sample1, sample2 in product(sample_order, sample_order):\n",
    "    \n",
    "    sample1_index = sample_order.index(sample1)\n",
    "    sample2_index = sample_order.index(sample2)\n",
    "    \n",
    "    fibroblasts_sample1 = fibroblasts_merged[(fibroblasts_merged.obs['sample'].isin([sample1]))]\n",
    "    fibroblasts_sample2 = fibroblasts_merged[(fibroblasts_merged.obs['sample'].isin([sample2]))]\n",
    "    \n",
    "    num_cells_in_sample1 = fibroblasts_sample1.n_obs\n",
    "    num_cells_in_sample2 = fibroblasts_sample2.n_obs\n",
    "    \n",
    "    num_cells_in_both = 0\n",
    "    \n",
    "    # Get the cluster counts for each sample\n",
    "    sample1_counts = fibroblasts_sample1.obs['leiden_sub'].value_counts()\n",
    "    sample2_counts = fibroblasts_sample2.obs['leiden_sub'].value_counts()\n",
    "    \n",
    "    # We take the sum of the minimum number of cells for each cluster present in both samples\n",
    "    num_cells_in_both = np.sum([np.min([sample1_counts[index], sample2_counts[index]]) for index in sample1_counts.index.intersection(sample2_counts.index).tolist()])\n",
    "\n",
    "    # This stupid indexing ensures that after plotting, UW P21 is the bottom row and LW REG PWD18 is the top row.\n",
    "    fibroblast_sample_braycurtis[len(sample_order) - 1 - sample1_index, sample2_index] = 1.0 - 2.0 * ( (num_cells_in_both)\\\n",
    "                                                                / (num_cells_in_sample1 + num_cells_in_sample2) )\n"
   ]
  },
  {
   "cell_type": "markdown",
   "id": "55147b1c",
   "metadata": {},
   "source": [
    "Plot the Bray-Curtis similarity matrix as a reflected lower triangular matrix. We don't need to plot above the diagonal as the matrix is symmetric"
   ]
  },
  {
   "cell_type": "code",
   "execution_count": null,
   "id": "11e8c32e",
   "metadata": {},
   "outputs": [],
   "source": [
    "# Generate a mask for the upper triangle\n",
    "mask = np.rot90(np.triu(np.ones_like(fibroblast_sample_braycurtis, dtype=bool), k = 1))\n",
    "\n",
    "sns.heatmap(fibroblast_sample_braycurtis,\n",
    "           mask = mask, # This blocks the upper triangular matrix\n",
    "           vmin=0, vmax=1.0,\n",
    "           yticklabels = sample_order[::-1], \n",
    "           xticklabels = sample_order,\n",
    "           square=True,\n",
    "           cmap = 'RdYlBu',\n",
    "           linewidths=0.0,\n",
    "           cbar_kws={\"shrink\": 0.5})"
   ]
  },
  {
   "cell_type": "markdown",
   "id": "292abf52",
   "metadata": {},
   "source": [
    "Calculate the Jaccard similarities to measure the overlap between wound healing time labels and fibroblast subcluster labels."
   ]
  },
  {
   "cell_type": "code",
   "execution_count": null,
   "id": "068158da",
   "metadata": {},
   "outputs": [],
   "source": [
    "fibroblast_cluster_sample_jaccard = np.zeros((len(sample_order), len(fibroblast_clusters)))"
   ]
  },
  {
   "cell_type": "code",
   "execution_count": null,
   "id": "e32114f0",
   "metadata": {},
   "outputs": [],
   "source": [
    "# Calculate the Jaccard index and cluster proportions per sample\n",
    "for sample, cluster in product(sample_order, fibroblast_clusters):\n",
    "    \n",
    "    sample_index = sample_order.index(sample)\n",
    "    cluster_index = fibroblast_clusters.index(cluster)\n",
    "    \n",
    "    num_cells_in_both = fibroblasts_merged[(fibroblasts_merged.obs['leiden_sub'].isin([cluster]))\\\n",
    "                                           &(fibroblasts_merged.obs['sample'].isin([sample]))].n_obs\n",
    "    \n",
    "    num_cells_in_sample = fibroblasts_merged[(fibroblasts_merged.obs['sample'].isin([sample]))].n_obs\n",
    "    num_cells_in_cluster = fibroblasts_merged[(fibroblasts_merged.obs['leiden_sub'].isin([cluster]))].n_obs\n",
    "    \n",
    "    fibroblast_cluster_sample_jaccard[sample_index, cluster_index] = num_cells_in_both \\\n",
    "                                                                / (num_cells_in_sample + num_cells_in_cluster - num_cells_in_both)\n",
    "    \n",
    "    # Why the hell did I do this stupid indexing. Oh I remember now, I wanted U21 at the bottom row and LW REG PWD18 as the top row.\n",
    "    fibroblast_cluster_proportions[len(sample_order) - 1 - sample_index, cluster_index] = num_cells_in_both / num_cells_in_cluster\n",
    "    "
   ]
  },
  {
   "cell_type": "markdown",
   "id": "04124753",
   "metadata": {},
   "source": [
    "Define the Jaccard similarity matrix as a dataframe to make it easier to plot using `sns.relplot`"
   ]
  },
  {
   "cell_type": "code",
   "execution_count": null,
   "id": "31654dd4",
   "metadata": {},
   "outputs": [],
   "source": [
    "fibroblast_jaccard_df = pd.DataFrame(fibroblast_cluster_sample_jaccard.T, index=fibroblast_clusters, columns=sample_order)"
   ]
  },
  {
   "cell_type": "code",
   "execution_count": null,
   "id": "399ea6f1",
   "metadata": {},
   "outputs": [],
   "source": [
    "sns.set_theme(style=\"ticks\")\n",
    "\n",
    "ax = sns.relplot(data=fibroblast_jaccard_df.T,\n",
    "            linewidth=2.5,\n",
    "            palette=fibroblasts_merged.uns['leiden_sub_colors'].tolist(),\n",
    "            kind='line', alpha=0.75)\n",
    "plt.ylim((0, 0.75))\n",
    "plt.yticks([0, 0.25, 0.5, 0.75])\n",
    "plt.xticks(rotation=45)"
   ]
  }
 ],
 "metadata": {
  "kernelspec": {
   "display_name": "Python 3 (ipykernel)",
   "language": "python",
   "name": "python3"
  },
  "language_info": {
   "codemirror_mode": {
    "name": "ipython",
    "version": 3
   },
   "file_extension": ".py",
   "mimetype": "text/x-python",
   "name": "python",
   "nbconvert_exporter": "python",
   "pygments_lexer": "ipython3",
   "version": "3.8.14"
  }
 },
 "nbformat": 4,
 "nbformat_minor": 5
}
