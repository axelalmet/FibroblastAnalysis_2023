{
 "cells": [
  {
   "cell_type": "code",
   "execution_count": null,
   "id": "4e94655a",
   "metadata": {},
   "outputs": [],
   "source": [
    "# Where we will load the h5ad file\n",
    "results_directory = '../data/'"
   ]
  },
  {
   "cell_type": "code",
   "execution_count": null,
   "id": "e33dbbc9",
   "metadata": {},
   "outputs": [],
   "source": [
    "# Load the relevant packages.\n",
    "# First load the packages.\n",
    "import numpy as np\n",
    "import pandas as pd\n",
    "import scanpy as sc\n",
    "import matplotlib.pyplot as plt\n",
    "import seaborn as sns\n",
    "\n",
    "sc.settings.verbosity = 3 # Possible values: (0) errors, (1) warnings, (2) info, (3) hints\n",
    "sc.settings.set_figure_params(dpi = 100, facecolor='white', fontsize=18, transparent=True)"
   ]
  },
  {
   "cell_type": "markdown",
   "id": "9f84b5e7",
   "metadata": {},
   "source": [
    "We also define a custom colour map for visualisation of marker genes."
   ]
  },
  {
   "cell_type": "code",
   "execution_count": 1,
   "id": "54c9a512",
   "metadata": {},
   "outputs": [],
   "source": [
    "# Create the custom colourmap\n",
    "import matplotlib as mpl\n",
    "from copy import copy\n",
    "colour_map = copy(mpl.cm.get_cmap('hot_r'))\n",
    "colour_map.set_under('lightgray')"
   ]
  },
  {
   "cell_type": "code",
   "execution_count": null,
   "id": "7f2d31aa",
   "metadata": {},
   "outputs": [],
   "source": [
    "# Load the data\n",
    "file_name = 'integratedfibroblastsdata.h5ad'\n",
    "fibroblasts_merged = sc.read_h5ad(results_directory + file_name)"
   ]
  },
  {
   "cell_type": "markdown",
   "id": "d4686d0d",
   "metadata": {},
   "source": [
    "# Analysis of cell cycle phases"
   ]
  },
  {
   "cell_type": "markdown",
   "id": "1045063f",
   "metadata": {},
   "source": [
    "We follow the standard analysis for cell cycle phase inference as suggested by the Scanpy and Seurat developers [here](https://scanpy.readthedocs.io/en/stable/generated/scanpy.tl.score_genes_cell_cycle.html). That is, we consider \"known\" markers of S phase and G2M phase progression and calculate gene scores for each fibroblast."
   ]
  },
  {
   "cell_type": "code",
   "execution_count": null,
   "id": "b43fe7b4",
   "metadata": {},
   "outputs": [],
   "source": [
    "# Score the FIB RNA population on cell cycle phase\n",
    "cell_cycle_genes = pd.read_csv(results_directory + 'regev_lab_cell_cycle_genes.txt', header=None)[0].tolist()\n",
    "cell_cycle_genes = list(map(lambda x: x[0] + x[1:].lower(), cell_cycle_genes)) # Convert these into mouse symbols (roughly)\n",
    "s_genes = cell_cycle_genes[:43] # Pulled from Scanpy example\n",
    "g2m_genes = cell_cycle_genes[43:] # Pulled from Scanpy example\n",
    "\n",
    "# Filter out genes not in the list of variables\n",
    "cell_cycle_genes = [x for x in cell_cycle_genes if x in fibroblasts_merged.var_names]\n",
    "s_genes = [x for x in s_genes if x in fibroblasts_merged.var_names]\n",
    "g2m_genes = [x for x in g2m_genes if x in fibroblasts_merged.var_names]"
   ]
  },
  {
   "cell_type": "code",
   "execution_count": null,
   "id": "55ca7564",
   "metadata": {},
   "outputs": [],
   "source": [
    "sc.tl.score_genes(fibroblasts_merged, gene_list=cell_cycle_genes, score_name='Cell cycle')\n",
    "sc.tl.score_genes_cell_cycle(fibroblasts_merged, s_genes=s_genes, g2m_genes=g2m_genes)"
   ]
  },
  {
   "cell_type": "markdown",
   "id": "9678a55b",
   "metadata": {},
   "source": [
    "Plotting the cell cycle gene score shows there are ``patches`` of high cell cycle gene expression, which may indicate proliferative activity."
   ]
  },
  {
   "cell_type": "code",
   "execution_count": null,
   "id": "8afadf97",
   "metadata": {},
   "outputs": [],
   "source": [
    "sc.pl.umap(fibroblasts_merged, color='Cell Cycle', size=10, cmap=colour_map, vmin=0.0001)"
   ]
  },
  {
   "cell_type": "markdown",
   "id": "cdd2164a",
   "metadata": {},
   "source": [
    "Plotting the phases as well suggests that cells with high cell cycle scores tend to be in G2M or S phase, i.e. these cells are progressing through the cell cycle."
   ]
  },
  {
   "cell_type": "code",
   "execution_count": null,
   "id": "4163f542",
   "metadata": {},
   "outputs": [],
   "source": [
    "# Define colours for the phase colours (for illustrative purposes)\n",
    "cell_cycle_phase_colours = ['#3D96AD', '#FAEC5D', '#FA669A']\n",
    "fibroblasts_merged.uns['phase_colors'] = cell_cycle_phase_colours"
   ]
  },
  {
   "cell_type": "code",
   "execution_count": null,
   "id": "1f729e77",
   "metadata": {},
   "outputs": [],
   "source": [
    "sc.pl.umap(fibroblasts_merged, color='phase', size=10)"
   ]
  },
  {
   "cell_type": "markdown",
   "id": "3bc22f80",
   "metadata": {},
   "source": [
    "Plot the proportions of each fibroblast subcluster that are in each cell cycle phase"
   ]
  },
  {
   "cell_type": "code",
   "execution_count": null,
   "id": "845918db",
   "metadata": {},
   "outputs": [],
   "source": [
    "fibroblasts_merged_df = fibroblasts_merged.obs\n",
    "\n",
    "tmp = pd.crosstab(fibroblasts_merged_df['sample'], fibroblasts_merged_df['phase'], normalize=False)\n",
    "tmp = tmp.reindex(sample_order)\n",
    "\n",
    "axis = tmp.plot.bar(stacked=True, width=0.9, grid=False, figsize=(6,10), linewidth=1.0, color=cell_cycle_phase_colours)\n",
    "plt.legend(loc='center left', bbox_to_anchor=(1.0, 0.5))\n",
    "fig = axis.get_figure()"
   ]
  },
  {
   "cell_type": "markdown",
   "id": "8089779b",
   "metadata": {},
   "source": [
    "Of the above subclusters, FIB-I, FIB-IV, FIB-VI, and FIB-X seem to contain proliferating subsets."
   ]
  },
  {
   "cell_type": "markdown",
   "id": "8077ea9b",
   "metadata": {},
   "source": [
    "We now look at what proportions of each subclusters are contributing to proliferative activity over wound healing time."
   ]
  },
  {
   "cell_type": "code",
   "execution_count": null,
   "id": "78f190a2",
   "metadata": {},
   "outputs": [],
   "source": [
    "fibroblast_clusters = leiden_clusters.value_counts().index.tolist()\n",
    "sample_order = ['UW P21', 'UW P49', 'SW PWD4', 'SW PWD7', 'LW PWD12', 'LW PWD14', 'LW FIB PWD18', 'LW REG PWD18']"
   ]
  },
  {
   "cell_type": "code",
   "execution_count": null,
   "id": "5e3a7a63",
   "metadata": {},
   "outputs": [],
   "source": [
    "cell_cycle_phase_contributions = np.zeros((len(fibroblast_clusters), len(sample_order)))"
   ]
  },
  {
   "cell_type": "code",
   "execution_count": null,
   "id": "17161ba4",
   "metadata": {},
   "outputs": [],
   "source": [
    "for sample in sample_order:\n",
    "    \n",
    "    sample_index = sample_order.index(sample)\n",
    "    \n",
    "    \n",
    "    fibroblast_cycling_subset = fibroblasts_merged[(fibroblasts_merged.obs['sample'] == sample)\\\n",
    "                                                    &(fibroblasts_merged.obs['phase'].isin(['G2M']))]\n",
    "        \n",
    "    g2m_s_contributions = fibroblast_cycling_subset.obs['leiden_sub'].value_counts(normalize='index').reindex(fibroblast_clusters).to_numpy()\n",
    "    \n",
    "    cell_cycle_phase_contributions[~np.isnan(g2m_s_contributions), sample_index] = g2m_s_contributions[~np.isnan(g2m_s_contributions)]\n",
    "    "
   ]
  },
  {
   "cell_type": "code",
   "execution_count": null,
   "id": "6033fead",
   "metadata": {},
   "outputs": [],
   "source": [
    "# Create a dataframe to make it easier to plot these contributions\n",
    "cycling_contributions_df = pd.DataFrame(cell_cycle_phase_contributions, index=fibroblast_clusters, columns=sample_order)"
   ]
  },
  {
   "cell_type": "code",
   "execution_count": null,
   "id": "4fe89882",
   "metadata": {},
   "outputs": [],
   "source": [
    "sns.set_theme(style=\"ticks\")\n",
    "\n",
    "ax = sns.relplot(data=cycling_proportions_df.T,\n",
    "            linewidth=2.5,\n",
    "            palette=fibroblasts_merged.uns['leiden_sub_colors'].tolist(),\n",
    "            kind='line', alpha=0.75)\n",
    "plt.ylim((0, 0.2))\n",
    "plt.yticks([0, 0.05, 0.1, 0.15, 0.2])\n",
    "plt.xticks(rotation=90)"
   ]
  },
  {
   "cell_type": "markdown",
   "id": "9cc14451",
   "metadata": {},
   "source": [
    "# Plotting the results from CellChat inference"
   ]
  },
  {
   "cell_type": "code",
   "execution_count": null,
   "id": "805a3b68",
   "metadata": {},
   "outputs": [],
   "source": [
    "# Load the CCC activities\n",
    "pwd4_communications = pd.read_csv(results_directory + 'integratedfibroblasts_communications_dividing_swpwd4.csv')\n",
    "pwd7_communications = pd.read_csv(results_directory + 'integratedfibroblasts_communications_dividing_swpwd7.csv')\n",
    "pwd12_communications = pd.read_csv(results_directory + 'integratedfibroblasts_communications_dividing_lwpwd12.csv')\n",
    "pwd18_communications = pd.read_csv(results_directory + 'integratedfibroblasts_communications_dividing_lwpwd18.csv')\n",
    "\n",
    "# Filter based on targets (we know these are the proliferative subclusters at the relevant timepoints)\n",
    "pwd4_communications = pwd4_communications[pwd4_communications['target'] == 'FIB-IV']\n",
    "pwd7_communications = pwd7_communications[pwd7_communications['target'] == 'FIB-IX']\n",
    "pwd12_communications = pwd12_communications[pwd12_communications['target'] == 'FIB-I']\n",
    "pwd18_communications = pwd18_communications[pwd18_communications['target'] == 'FIB-VI']\n",
    "\n",
    "all_communications = [pwd4_communications, pwd7_communications, pwd12_communications, pwd18_communications]\n"
   ]
  },
  {
   "cell_type": "markdown",
   "id": "284a146d",
   "metadata": {},
   "source": [
    "Collate all of the information together by pathway."
   ]
  },
  {
   "cell_type": "code",
   "execution_count": null,
   "id": "7c0d7cc0",
   "metadata": {},
   "outputs": [],
   "source": [
    "significant_pathways = {}\n",
    "\n",
    "for i in range(len(all_communications)):\n",
    "    communications = all_communications[i]\n",
    "    time = timepoints[i]\n",
    "    fibroblast_subcluster = relevant_clusters[i]\n",
    "    \n",
    "    for index, row in communications.iterrows():\n",
    "        pathway_name = row['pathway_name']\n",
    "        cluster_A = row['source']\n",
    "        cluster_B = row['target']\n",
    "        score_AB = row['prob']\n",
    "        ligand_A = row['ligand']\n",
    "        receptor_B = row['receptor']\n",
    "        \n",
    "        relevant_pathway = pathway_name\n",
    "            \n",
    "        if relevant_pathway in significant_pathways:\n",
    "            significant_pathways[relevant_pathway][i] += score_AB\n",
    "        else:\n",
    "            pathway_scores = np.zeros(len(all_communications))\n",
    "            pathway_scores[i] += score_AB\n",
    "            significant_pathways[relevant_pathway] = pathway_scores\n"
   ]
  },
  {
   "cell_type": "markdown",
   "id": "eb69345e",
   "metadata": {},
   "source": [
    "We now classify which pathways are universally present and which are dynamically present, i.e. on and off at different times. "
   ]
  },
  {
   "cell_type": "code",
   "execution_count": null,
   "id": "cae1eb3c",
   "metadata": {},
   "outputs": [],
   "source": [
    "activity_threshold = 0.05 # This was picked to get \"cleaner\" results\n",
    "universal_pathways = []\n",
    "dynamic_pathways = []\n",
    "for pathway in significant_pathways:\n",
    "    \n",
    "    pathway_activities = significant_pathways[pathway]\n",
    "    \n",
    "    if pathway_activities.max() > activity_threshold:\n",
    "        \n",
    "        nonzero_times = len(pathway_activities.nonzero()[0])\n",
    "\n",
    "        if nonzero_times == len(all_communications):\n",
    "            universal_pathways.append(pathway)\n",
    "        else:\n",
    "            dynamic_pathways.append(pathway)\n",
    "            \n",
    "universal_pathways_df = pd.DataFrame(data={pathway:significant_pathways[pathway] for pathway in universal_pathways})\n",
    "dynamic_pathways_df = pd.DataFrame(data={pathway:significant_pathways[pathway] for pathway in dynamic_pathways})"
   ]
  },
  {
   "cell_type": "markdown",
   "id": "e2e4940f",
   "metadata": {},
   "source": [
    "Plot the results."
   ]
  },
  {
   "cell_type": "code",
   "execution_count": null,
   "id": "4c26769d",
   "metadata": {},
   "outputs": [],
   "source": [
    "sns.set_theme(style=\"ticks\")\n",
    "\n",
    "ax = sns.relplot(data=universal_pathways_df,\n",
    "            linewidth=2.5,\n",
    "            kind='line', alpha=0.75);\n",
    "plt.xticks(rotation=45, ticks=[0, 1, 2, 3], labels=timepoints);\n",
    "plt.ylim(0, 0.2)\n",
    "plt.yticks(ticks=np.arange(0, 0.25, 0.05))"
   ]
  },
  {
   "cell_type": "code",
   "execution_count": null,
   "id": "9050dcf8",
   "metadata": {},
   "outputs": [],
   "source": [
    "sns.set_theme(style=\"ticks\")\n",
    "\n",
    "ax = sns.relplot(data=dynamic_pathways_df,\n",
    "            linewidth=2.5,\n",
    "            kind='line', alpha=0.75);\n",
    "plt.xticks(rotation=45, ticks=[0, 1, 2, 3], labels=timepoints);\n",
    "plt.ylim(0, 0.45)\n",
    "plt.yticks(ticks=np.arange(0, 0.5, 0.1))"
   ]
  }
 ],
 "metadata": {
  "kernelspec": {
   "display_name": "Python 3 (ipykernel)",
   "language": "python",
   "name": "python3"
  },
  "language_info": {
   "codemirror_mode": {
    "name": "ipython",
    "version": 3
   },
   "file_extension": ".py",
   "mimetype": "text/x-python",
   "name": "python",
   "nbconvert_exporter": "python",
   "pygments_lexer": "ipython3",
   "version": "3.8.14"
  }
 },
 "nbformat": 4,
 "nbformat_minor": 5
}
