{
 "cells": [
  {
   "cell_type": "markdown",
   "id": "774c4918",
   "metadata": {},
   "source": [
    "# Integration of published wound healing datasets using Scanorama #\n",
    "This notebook contains the code used to generate the majority of Figure 1. That is, the integration of various published *mouse* wound healing datasets, which detail various conditions, wound size, and time from wounding:\n",
    "a\n",
    "1. [Haensel et al. (2020)](https://www.sciencedirect.com/science/article/pii/S2211124720302655): Uninjured, small wound PWD4 (multiple samples of each), epidermis + dermis\n",
    "2. [Abbasi et al. (2020)](https://doi.org/10.1016/j.stem.2020.07.008): Uninjured (this one is optional)\n",
    "3. [Phan et al. (2020)](https://elifesciences.org/articles/60066): Uninjured and small wound PWD7.\n",
    "4. [Guerrero-Juarez et al. (2019)](https://doi.org/10.1038/s41467-018-08247-x): Large wound PWD12, mainly dermis\n",
    "5. [Gay et al. (2020)](https://doi.org/10.1126/sciadv.aay3704): Fibrotic and regenerative large wounds PWD18, mostly dermis and immune cells.\n",
    "\n",
    "For data integration, we will use the package, [Scanorama](https://github.com/brianhie/scanorama) (see [Hie et al., 2019](https://www.nature.com/articles/s41587-019-0113-3))."
   ]
  },
  {
   "cell_type": "code",
   "execution_count": null,
   "id": "236e1741",
   "metadata": {},
   "outputs": [],
   "source": [
    "# Let's start loading the data. We have to do this paper by paper, so we'll initialise a list of the annotated data frames.\n",
    "data_directory = '../data/' # Where we loaded the data\n",
    "\n",
    "# Where we will save the h5ad file\n",
    "results_directory = '../data/'"
   ]
  },
  {
   "cell_type": "code",
   "execution_count": 1,
   "id": "23a6e764",
   "metadata": {},
   "outputs": [],
   "source": [
    "# Load the relevant packages.\n",
    "# First load the packages.\n",
    "import numpy as np\n",
    "import pandas as pd\n",
    "import scanpy as sc\n",
    "import matplotlib.pyplot as plt\n",
    "import seaborn as sns\n",
    "import scanorama as scrama\n",
    "from scipy import sparse\n",
    "\n",
    "sc.settings.verbosity = 3 # Possible values: (0) errors, (1) warnings, (2) info, (3) hints\n",
    "sc.settings.set_figure_params(dpi = 100, facecolor='white', fontsize=18, transparent=True)"
   ]
  },
  {
   "cell_type": "markdown",
   "id": "5b0aff89",
   "metadata": {},
   "source": [
    "Load the data from each study."
   ]
  },
  {
   "cell_type": "markdown",
   "id": "c6cfad84",
   "metadata": {},
   "source": [
    "### UW P21: Phan et al. (2020)"
   ]
  },
  {
   "cell_type": "code",
   "execution_count": null,
   "id": "f83499a2",
   "metadata": {},
   "outputs": [],
   "source": [
    "# Phan et al. (2020)\n",
    "paper_name = 'Phan2020/'\n",
    "conditions = ['UnwoundedP21/P21_1.loom', 'UnwoundedP21/P21_2.loom', 'UnwoundedP21/P21_3.loom']\n",
    "samples = ['UW P21', 'UW P21', 'UW P21']\n",
    "sub_samples = ['UWP21_1', 'UWP21_2', 'UWP21_3']\n",
    "\n",
    "uw_p21_datasets = []\n",
    "# We now add the data to the list\n",
    "for i in range(len(conditions)):\n",
    "    \n",
    "    directory = data_directory + paper_name + conditions[i]\n",
    "    data = sc.read_loom(directory, obs_names = 'CellID', var_names = 'Gene') # Gene symbols will be used as variable names\n",
    "    data.var_names_make_unique()\n",
    "    data.obs.index = data.obs.index.str.split('-').str[0]\n",
    "    data.obs.index.name = None\n",
    "    data.obs['sample'] = samples[i]\n",
    "    data.obs['sub_sample'] = sub_samples[i]\n",
    "    data.var.rename(columns={'Accession':'gene_ids'}, inplace=True)\n",
    "    data.obs.drop(['Clusters', '_X', '_Y'], axis=1, inplace=True) # Drop the unnecessary labels\n",
    "    data.var.drop(['Chromosome', 'Start', 'End', 'Strand'], axis=1, inplace=True)\n",
    "    del data.layers['matrix'], data.layers['ambiguous'] # Don't need these from velocyto\n",
    "    uw_p21_datasets.append(data)"
   ]
  },
  {
   "cell_type": "markdown",
   "id": "c7b2f953",
   "metadata": {},
   "source": [
    "### UW P49: Haensel et al. (2020)"
   ]
  },
  {
   "cell_type": "code",
   "execution_count": null,
   "id": "9a581d68",
   "metadata": {},
   "outputs": [],
   "source": [
    "# Now Haensel et al. (2020)\n",
    "paper_name = 'Haensel2020/'\n",
    "conditions = ['Unwounded/1/', 'Unwounded/2/', 'Wounded/1/', 'Wounded/2/', 'Wounded/3/']\n",
    "samples = ['UW P49', 'UW P49', 'SW PWD4', 'SW PWD4', 'SW PWD4']\n",
    "sub_samples = ['UWP49_1', 'UWP49_2', 'SWPWD4_1', 'SWPWD4_2', 'SWPWD4_3']\n",
    "\n",
    "uwp49_datasets = []\n",
    "swpwd4_datasets = []\n",
    "# We now add the data to the list\n",
    "for i in range(len(conditions)):\n",
    "    \n",
    "    # Get the published counts\n",
    "    directory = data_directory + paper_name + conditions[i]\n",
    "    data = sc.read_10x_mtx(directory, # Directory with relevant .mtx file\n",
    "        var_names = 'gene_symbols', # Gene symbols will be used as variable names\n",
    "        cache=True)\n",
    "    data.obs.index = data.obs.index.str.split('-').str[0]\n",
    "    data.obs['sample'] = samples[i]\n",
    "    data.obs['sub_sample'] = sub_samples[i]\n",
    "#     wound_datasets.append(data)\n",
    "    \n",
    "    # Get the RNA velocity data obtained with kallisto\n",
    "    directory = data_directory + paper_name + conditions[i] + 'counts_unfiltered/adata.h5ad'\n",
    "    data_kb = sc.read_h5ad(directory)\n",
    "    data_kb.obs['sample'] = samples[i]\n",
    "    data_kb.obs['sub_sample'] = sub_samples[i]\n",
    "    data_kb.obs.index.name = None\n",
    "    \n",
    "    data_kb.obs.index = data_kb.obs.index.str.split('-').str[0]\n",
    "    data_kb.var.index = data_kb.var.index.str.split('.').str[0]\n",
    "    data_kb.var.rename({'gene_name':'gene_ids'}, axis=1, inplace=True)\n",
    "    gene_ids = data_kb.var.index\n",
    "    data_kb.var.index = pd.Index(data_kb.var['gene_ids'].tolist()) # The index names should be the gene ids\n",
    "    data_kb.var['gene_ids'] = gene_ids\n",
    "    data_kb.var.index.name = None\n",
    "    data_kb.var_names_make_unique()\n",
    "    \n",
    "    # Get the intersections of the cells and gene sets\n",
    "    var_intersect = data.var.index.intersection(data_kb.var.index)\n",
    "    obs_intersect = data.obs.index.intersection(data_kb.obs.index)\n",
    "    \n",
    "    # Subset the dataframes\n",
    "    data_subset = data[obs_intersect, var_intersect]    \n",
    "    data_kb_subset = data_kb[obs_intersect, var_intersect]\n",
    "    \n",
    "    # Set the spliced/unspliced layers\n",
    "    data_subset.layers['spliced'] = data_kb_subset.layers['spliced']\n",
    "    data_subset.layers['unspliced'] = data_kb_subset.layers['unspliced']\n",
    "    \n",
    "    if i < 2: # Do this as there are only 2 UW P49 datasets but 3 SW PWD4 datasets\n",
    "        uwp49_datasets.append(data_subset)\n",
    "    else:\n",
    "        swpwd4_datasets.append(data_subset)\n",
    "        "
   ]
  },
  {
   "cell_type": "markdown",
   "id": "03dde7c5",
   "metadata": {},
   "source": [
    "### SW PWD7: Phan et al. (2020)"
   ]
  },
  {
   "cell_type": "code",
   "execution_count": null,
   "id": "37ce0309",
   "metadata": {},
   "outputs": [],
   "source": [
    "# Phan et al. (2020)\n",
    "paper_name = 'Phan2020/'\n",
    "conditions = ['WoundedP21/P21_1_Wound.loom', 'WoundedP21/P21_2_Wound.loom', 'WoundedP21/P21_3_Wound.loom']\n",
    "samples = ['SW PWD7', 'SW PWD7', 'SW PWD7']\n",
    "sub_samples = ['SWPWD7_1', 'SWPWD7_2', 'SWPWD7_3']\n",
    "\n",
    "swpwd7_datasets = []\n",
    "# We now add the data to the list\n",
    "for i in range(len(conditions)):\n",
    "    \n",
    "    directory = data_directory + paper_name + conditions[i]\n",
    "    data = sc.read_loom(directory, obs_names = 'CellID', var_names = 'Gene') # Gene symbols will be used as variable names\n",
    "    data.var_names_make_unique()\n",
    "    data.obs.index = data.obs.index.str.split('-').str[0]\n",
    "    data.obs.index.name = None\n",
    "    data.obs['sample'] = samples[i]\n",
    "    data.obs['sub_sample'] = sub_samples[i]\n",
    "    data.var.rename(columns={'Accession':'gene_ids'}, inplace=True)\n",
    "    data.obs.drop(['Clusters', '_X', '_Y'], axis=1, inplace=True) # Drop the unnecessary labels\n",
    "    data.var.drop(['Chromosome', 'Start', 'End', 'Strand'], axis=1, inplace=True)\n",
    "    del data.layers['matrix'], data.layers['ambiguous']\n",
    "    # Also need to remove non-ribo genes in this set... they do weird things.\n",
    "    non_ribo_genes = [name for name in data.var_names if not name.startswith('Rp')]\n",
    "    data = data[:, non_ribo_genes]\n",
    "    swpwd7_datasets.append(data)"
   ]
  },
  {
   "cell_type": "markdown",
   "id": "4681d37d",
   "metadata": {},
   "source": [
    "### LW PWD12: Guerrero-Juarez et al. (2019)"
   ]
  },
  {
   "cell_type": "code",
   "execution_count": null,
   "id": "a35a3acc",
   "metadata": {},
   "outputs": [],
   "source": [
    "# Guerrero-Juarez et al. (2019)\n",
    "paper_name = 'GuerreroJuarez2019/'\n",
    "conditions = ['Shortened/']\n",
    "samples = ['LW PWD12']\n",
    "sub_samples = ['LWPWD12']\n",
    "\n",
    "lwpwd12_datasets = []\n",
    "\n",
    "# We now add the data to the list\n",
    "for i in range(len(conditions)):\n",
    "    \n",
    "    # Get the published counts\n",
    "    directory = data_directory + paper_name + conditions[i]\n",
    "    data = sc.read_10x_mtx(directory, # Directory with relevant .mtx file\n",
    "        var_names = 'gene_symbols', # Gene symbols will be used as variable names\n",
    "        cache=True)\n",
    "    data.obs['sample'] = samples[i]\n",
    "    data.obs['sub_sample'] = sub_samples[i]\n",
    "    data.obs.index = data.obs.index.str.split('-').str[0]\n",
    "    wound_datasets.append(data)\n",
    "\n",
    "    # Get the RNA velocity data obtained with kallisto\n",
    "    directory = data_directory + paper_name + conditions[i] + 'counts_unfiltered/adata.h5ad'\n",
    "    data_kb = sc.read_h5ad(directory)\n",
    "    data_kb.obs['sample'] = samples[i]\n",
    "    data_kb.obs['sub_sample'] = sub_samples[i]\n",
    "    data_kb.obs.index.name = None\n",
    "    \n",
    "    data_kb.obs.index = data_kb.obs.index.str.split('-').str[0]\n",
    "    data_kb.var.index = data_kb.var.index.str.split('.').str[0]\n",
    "    data_kb.var.rename({'gene_name':'gene_ids'}, axis=1, inplace=True)\n",
    "    gene_ids = data_kb.var.index\n",
    "    data_kb.var.index = pd.Index(data_kb.var['gene_ids'].tolist()) # The index names should be the gene ids\n",
    "    data_kb.var['gene_ids'] = gene_ids\n",
    "    data_kb.var.index.name = None\n",
    "    data_kb.var_names_make_unique()\n",
    "    \n",
    "    # Get the intersections of the cells and gene sets\n",
    "    var_intersect = data.var.index.intersection(data_kb.var.index)\n",
    "    obs_intersect = data.obs.index.intersection(data_kb.obs.index)\n",
    "    \n",
    "    # Subset the dataframes\n",
    "    data_subset = data[obs_intersect, var_intersect]    \n",
    "    data_kb_subset = data_kb[obs_intersect, var_intersect]\n",
    "    \n",
    "    # Set the spliced/unspliced layers\n",
    "    data_subset.layers['spliced'] = data_kb_subset.layers['spliced']\n",
    "    data_subset.layers['unspliced'] = data_kb_subset.layers['unspliced']\n",
    "    \n",
    "    lwpwd12_datasets.append(data_subset)"
   ]
  },
  {
   "cell_type": "markdown",
   "id": "da11309f",
   "metadata": {},
   "source": [
    "### LW PWD14: Abbasi et al. (2020)"
   ]
  },
  {
   "cell_type": "code",
   "execution_count": null,
   "id": "620c1d4f",
   "metadata": {},
   "outputs": [],
   "source": [
    "# First load Abbasi et al. (2020)\n",
    "paper_name = 'Abbasi2020/'\n",
    "conditions = ['LargeWoundCentre_PWD14/', 'LargeWoundPeriphery_PWD14/']\n",
    "samples = ['LW PWD14', 'LW PWD14']\n",
    "sub_samples = ['LWPWD14_C', 'LWPWD14_P']\n",
    "\n",
    "lwpwd14_datasets = []\n",
    "# We now add the data to the list\n",
    "for i in range(len(conditions)):\n",
    "    \n",
    "    directory = data_directory + paper_name + conditions[i]\n",
    "    data = sc.read_10x_mtx(directory, # Directory with relevant .mtx file\n",
    "        var_names = 'gene_symbols', # Gene symbols will be used as variable names\n",
    "        cache=True)\n",
    "    data.obs['sample'] = samples[i]\n",
    "    data.obs['sub_sample'] = sub_samples[i]\n",
    "    data.obs.index = data.obs.index.str.split('-').str[0]\n",
    "    wound_datasets.append(data)\n",
    "    \n",
    "    # Get the RNA velocity data obtained with kallisto\n",
    "    directory = data_directory + paper_name + conditions[i] + 'counts_unfiltered/adata.h5ad'\n",
    "    data_kb = sc.read_h5ad(directory)\n",
    "    data_kb.obs['sample'] = samples[i]\n",
    "    data_kb.obs['sub_sample'] = sub_samples[i]\n",
    "    data_kb.obs.index.name = None\n",
    "    \n",
    "    data_kb.obs.index = data_kb.obs.index.str.split('-').str[0]\n",
    "    data_kb.var.index = data_kb.var.index.str.split('.').str[0]\n",
    "    data_kb.var.rename({'gene_name':'gene_ids'}, axis=1, inplace=True)\n",
    "    gene_ids = data_kb.var.index\n",
    "    data_kb.var.index = pd.Index(data_kb.var['gene_ids'].tolist()) # The index names should be the gene ids\n",
    "    data_kb.var['gene_ids'] = gene_ids\n",
    "    data_kb.var.index.name = None\n",
    "    data_kb.var_names_make_unique()\n",
    "    \n",
    "    # Get the intersections of the cells and gene sets\n",
    "    var_intersect = data.var.index.intersection(data_kb.var.index)\n",
    "    obs_intersect = data.obs.index.intersection(data_kb.obs.index)\n",
    "    \n",
    "    # Subset the dataframes\n",
    "    data_subset = data[obs_intersect, var_intersect]    \n",
    "    data_kb_subset = data_kb[obs_intersect, var_intersect]\n",
    "    \n",
    "    # Set the spliced/unspliced layers\n",
    "    data_subset.layers['spliced'] = data_kb_subset.layers['spliced']\n",
    "    data_subset.layers['unspliced'] = data_kb_subset.layers['unspliced']\n",
    "    \n",
    "    lwpwd14_datasets.append(data_subset)"
   ]
  },
  {
   "cell_type": "markdown",
   "id": "a5c3dc5a",
   "metadata": {},
   "source": [
    "### LW FIB/REG PWD18: Gay et al. (2020)"
   ]
  },
  {
   "cell_type": "code",
   "execution_count": null,
   "id": "051d111f",
   "metadata": {},
   "outputs": [],
   "source": [
    "# Gay et al. (2020)\n",
    "paper_name = 'Gay2020/'\n",
    "conditions = ['Fibrotic/', 'Regenerative/']\n",
    "samples = ['FIB PWD18', 'REG PWD18']\n",
    "sub_samples = ['FIBPWD18', 'REGPWD18']\n",
    "\n",
    "lwpwd18_datasets = []\n",
    "\n",
    "# We now add the data to the list\n",
    "for i in range(len(conditions)):\n",
    "    \n",
    "    directory = data_directory + paper_name + conditions[i]\n",
    "    data = sc.read_10x_mtx(directory, # Directory with relevant .mtx file\n",
    "        var_names = 'gene_symbols', # Gene symbols will be used as variable names\n",
    "        cache=True)\n",
    "    data.obs['sample'] = samples[i]\n",
    "    data.obs['sub_sample'] = sub_samples[i]\n",
    "    data.obs.index = data.obs.index.str.split('-').str[0]\n",
    "    wound_datasets.append(data)\n",
    "    \n",
    "    # Get the RNA velocity data obtained with kallisto\n",
    "    directory = data_directory + paper_name + conditions[i] + 'counts_unfiltered/adata.h5ad'\n",
    "    data_kb = sc.read_h5ad(directory)\n",
    "    data_kb.obs['sample'] = samples[i]\n",
    "    data_kb.obs['sub_sample'] = sub_samples[i]\n",
    "    data_kb.obs.index.name = None\n",
    "\n",
    "    data_kb.obs.index = data_kb.obs.index.str.split('-').str[0]\n",
    "    data_kb.var.index = data_kb.var.index.str.split('.').str[0]\n",
    "    data_kb.var.rename({'gene_name':'gene_ids'}, axis=1, inplace=True)\n",
    "    gene_ids = data_kb.var.index\n",
    "    data_kb.var.index = pd.Index(data_kb.var['gene_ids'].tolist()) # The index names should be the gene ids\n",
    "    data_kb.var['gene_ids'] = gene_ids\n",
    "    data_kb.var.index.name = None\n",
    "    data_kb.var_names_make_unique()\n",
    "    \n",
    "    # Get the intersections of the cells and gene sets\n",
    "    var_intersect = data.var.index.intersection(data_kb.var.index)\n",
    "    obs_intersect = data.obs.index.intersection(data_kb.obs.index)\n",
    "    \n",
    "    # Subset the dataframes\n",
    "    data_subset = data[obs_intersect, var_intersect]    \n",
    "    data_kb_subset = data_kb[obs_intersect, var_intersect]\n",
    "    \n",
    "    # Set the spliced/unspliced layers\n",
    "    data_subset.layers['spliced'] = data_kb_subset.layers['spliced']\n",
    "    data_subset.layers['unspliced'] = data_kb_subset.layers['unspliced']\n",
    "    \n",
    "    lwpwd18_datasets.append(data_subset)"
   ]
  },
  {
   "cell_type": "markdown",
   "id": "6b02ae28",
   "metadata": {},
   "source": [
    "Remove doublets via Scrublet."
   ]
  },
  {
   "cell_type": "code",
   "execution_count": null,
   "id": "e85f4b29",
   "metadata": {},
   "outputs": [],
   "source": [
    "for i in range(len(uwp21_datasets)):\n",
    "    data = uwp21_datasets[i]\n",
    "    sc.external.pp.scrublet(data)\n",
    "    data = data[data.obs['predicted_doublet'] == False]\n",
    "    uwp21_datasets[i] = data\n",
    "    \n",
    "for i in range(len(uwp49_datasets)):\n",
    "    data = uwp49_datasets[i]\n",
    "    sc.external.pp.scrublet(data)\n",
    "    data = data[data.obs['predicted_doublet'] == False]\n",
    "    uwp49_datasets[i] = data\n",
    "    \n",
    "for i in range(len(swpwd4_datasets)):\n",
    "    data = swpwd4_datasets[i]\n",
    "    sc.external.pp.scrublet(data)\n",
    "    data = data[data.obs['predicted_doublet'] == False]\n",
    "    swpwd4_datasets[i] = data\n",
    "    \n",
    "for i in range(len(swpwd7_datasets)):\n",
    "    data = swpwd7_datasets[i]\n",
    "    sc.external.pp.scrublet(data)\n",
    "    data = data[data.obs['predicted_doublet'] == False]\n",
    "    swpwd7_datasets[i] = data\n",
    "    \n",
    "for i in range(len(lwpwd12_datasets)):\n",
    "    data = lwpwd12_datasets[i]\n",
    "    sc.external.pp.scrublet(data)\n",
    "    data = data[data.obs['predicted_doublet'] == False]\n",
    "    lwpwd12_datasets[i] = data\n",
    "    \n",
    "for i in range(len(lwpwd14_datasets)):\n",
    "    data = lwpwd14_datasets[i]\n",
    "    sc.external.pp.scrublet(data)\n",
    "    data = data[data.obs['predicted_doublet'] == False]\n",
    "    lwpwd14_datasets[i] = data\n",
    "    \n",
    "for i in range(len(lwpwd18_datasets)):\n",
    "    data = lwpwd18_datasets[i]\n",
    "    sc.external.pp.scrublet(data)\n",
    "    data = data[data.obs['predicted_doublet'] == False]\n",
    "    lwpwd18_datasets[i] = data"
   ]
  },
  {
   "cell_type": "markdown",
   "id": "a1e9ae9e",
   "metadata": {},
   "source": [
    "Preprocess each condition separately. First, for each condition, we merge the list of samples for QC filtering."
   ]
  },
  {
   "cell_type": "code",
   "execution_count": null,
   "id": "d00812fe",
   "metadata": {},
   "outputs": [],
   "source": [
    "uwp21_merged = uwp21_datasets[0].concatenate(uwp21_datasets[1:])\n",
    "uwp21_merged.obs_names_make_unique(join='_')\n",
    "\n",
    "uwp49_merged = uwp49_datasets[0].concatenate(uwp49_datasets[1:])\n",
    "uwp49_merged.obs_names_make_unique(join='_')\n",
    "\n",
    "swpwd4_merged = swpwd4_datasets[0].concatenate(swpwd4_datasets[1:])\n",
    "swpwd4_merged.obs_names_make_unique(join='_')\n",
    "\n",
    "swpwd7_merged = swpwd7_datasets[0].concatenate(swpwd7_datasets[1:])\n",
    "swpwd7_merged.obs_names_make_unique(join='_')\n",
    "\n",
    "lwpwd12_merged = lwpwd12_datasets[0].concatenate(lwpwd12_datasets[1:])\n",
    "lwpwd12_merged.obs_names_make_unique(join='_')\n",
    "\n",
    "lwpwd14_merged = lwpwd14_datasets[0].concatenate(lwpwd14_datasets[1:])\n",
    "lwpwd14_merged.obs_names_make_unique(join='_')\n",
    "\n",
    "lwpwd18_merged = lwpwd18_datasets[0].concatenate(lwpwd18_datasets[1:])\n",
    "lwpwd18_merged.obs_names_make_unique(join='_')"
   ]
  },
  {
   "cell_type": "markdown",
   "id": "3a8b3b0c",
   "metadata": {},
   "source": [
    "For each condition, we filter based on the gene counts, the UMIs (`n_genes`) and mitochondrial gene expression."
   ]
  },
  {
   "cell_type": "markdown",
   "id": "a880c0d9",
   "metadata": {},
   "source": [
    "### UW P21"
   ]
  },
  {
   "cell_type": "code",
   "execution_count": null,
   "id": "446fcd7e",
   "metadata": {},
   "outputs": [],
   "source": [
    "uwp21_merged.obs['n_counts'] = uwp21_merged.X.sum(1)\n",
    "uwp21_merged.obs['log_counts'] = np.log(uwp21_merged.obs['n_counts'])\n",
    "uwp21_merged.obs['n_genes'] = (uwp21_merged.X > 0).sum(1)\n",
    "\n",
    "# Calculate the percentage of mitochondrial gene expression\n",
    "mito_genes = uwp21_merged.var_names.str.match('mt-')\n",
    "mt_sum = np.sum(uwp21_merged[:, mito_genes].X, axis=1)\n",
    "total_sum = np.sum(uwp21_merged.X, axis=1)\n",
    "# the `.A1` is only necessary as X is sparse (to transform to a dense array after summing)\n",
    "if sparse.issparse(uwp21_merged.X):\n",
    "    mt_sum = mt_sum.A1\n",
    "    total_sum = total_sum.A1\n",
    "uwp21_merged.obs['pct_counts_mt'] =  100.0 * mt_sum / total_sum\n"
   ]
  },
  {
   "cell_type": "code",
   "execution_count": null,
   "id": "d8223770",
   "metadata": {},
   "outputs": [],
   "source": [
    "plt.rcParams['figure.figsize']=(12, 4) #rescale figures\n",
    "sc.pl.violin(uwp21_merged, 'pct_counts_mt', groupby='sub_sample', multi_panel=False, cut=5)\n",
    "plt.show()\n",
    "\n",
    "sc.pl.violin(uwp21_merged, 'n_counts', groupby='sub_sample', multi_panel=False, log=True, cut=0)\n",
    "plt.show()\n",
    "\n",
    "plt.rcParams['figure.figsize']=(5, 5) #rescale figures\n",
    "\n",
    "#Data quality summary plots\n",
    "p1 = sc.pl.scatter(uwp21_merged, 'n_counts', 'n_genes', color='pct_counts_mt')\n",
    "p2 = sc.pl.scatter(uwp21_merged[uwp21_merged.obs['n_counts']<5000], 'n_counts', 'n_genes', color='pct_counts_mt')"
   ]
  },
  {
   "cell_type": "code",
   "execution_count": null,
   "id": "69ea19d1",
   "metadata": {},
   "outputs": [],
   "source": [
    "plt.rcParams['figure.figsize']=(5, 5) #rescale figures\n",
    "\n",
    "#Thresholding decision: counts\n",
    "p3 = sns.distplot(uwp21_merged.obs['n_counts'], kde=False)\n",
    "plt.show()\n",
    "\n",
    "p4 = sns.distplot(uwp21_merged.obs['n_counts'][uwp21_merged.obs['n_counts']<5000], kde=False, bins=60)\n",
    "plt.show()\n",
    "\n",
    "p5 = sns.distplot(uwp21_merged.obs['n_counts'][uwp21_merged.obs['n_counts']>10000], kde=False, bins=60)\n",
    "plt.show()\n",
    "\n",
    "#Thresholding decision: genes\n",
    "p6 = sns.distplot(uwp21_merged.obs['n_genes'][uwp21_merged.obs['n_genes'] > 2000], kde=False, bins=60)\n",
    "plt.show()\n",
    "\n",
    "p7 = sns.distplot(uwp21_merged.obs['n_genes'][uwp21_merged.obs['n_genes']<1500], kde=False, bins=60)\n",
    "plt.show()"
   ]
  },
  {
   "cell_type": "code",
   "execution_count": null,
   "id": "543fdb96",
   "metadata": {},
   "outputs": [],
   "source": [
    "# Filter cells according to identified QC thresholds:\n",
    "print('Total number of cells: {:d}'.format(uwp21_merged.n_obs))\n",
    "\n",
    "sc.pp.filter_cells(uwp21_merged, min_counts = 300)\n",
    "print('Number of cells after min count filter: {:d}'.format(uwp21_merged.n_obs))\n",
    "\n",
    "sc.pp.filter_cells(uwp21_merged, max_counts = 25000)\n",
    "print('Number of cells after max count filter: {:d}'.format(uwp21_merged.n_obs))\n",
    "\n",
    "uwp21_merged = uwp21_merged[uwp21_merged.obs['pct_counts_mt'] < 5.0] # Should be either 5 or 10\n",
    "print('Number of cells after MT filter: {:d}'.format(uwp21_merged.n_obs))\n",
    "\n",
    "sc.pp.filter_cells(uwp21_merged, max_genes = 5500)\n",
    "print('Number of cells after gene filter: {:d}'.format(uwp21_merged.n_obs))\n",
    "\n",
    "sc.pp.filter_cells(uwp21_merged, min_genes = 250)\n",
    "print('Number of cells after gene filter: {:d}'.format(uwp21_merged.n_obs))\n",
    "\n",
    "sc.pp.filter_genes(uwp21_merged, min_cells=3)\n",
    "print('Number of genes after cell filter: {:d}'.format(uwp21_merged.n_vars))"
   ]
  },
  {
   "cell_type": "markdown",
   "id": "89dccb1b",
   "metadata": {},
   "source": [
    "### UW P49"
   ]
  },
  {
   "cell_type": "code",
   "execution_count": null,
   "id": "219dacd3",
   "metadata": {},
   "outputs": [],
   "source": [
    "uwp49_merged.obs['n_counts'] = uwp49_merged.X.sum(1)\n",
    "uwp49_merged.obs['log_counts'] = np.log(uwp49_merged.obs['n_counts'])\n",
    "uwp49_merged.obs['n_genes'] = (uwp49_merged.X > 0).sum(1)\n",
    "\n",
    "# Calculate the percentage of mitochondrial gene expression\n",
    "mito_genes = uwp49_merged.var_names.str.match('mt-')\n",
    "mt_sum = np.sum(uwp49_merged[:, mito_genes].X, axis=1)\n",
    "total_sum = np.sum(uwp49_merged.X, axis=1)\n",
    "# the `.A1` is only necessary as X is sparse (to transform to a dense array after summing)\n",
    "if sparse.issparse(uwp49_merged.X):\n",
    "    mt_sum = mt_sum.A1\n",
    "    total_sum = total_sum.A1\n",
    "uwp49_merged.obs['pct_counts_mt'] =  100.0 * mt_sum / total_sum\n"
   ]
  },
  {
   "cell_type": "code",
   "execution_count": null,
   "id": "71f02612",
   "metadata": {},
   "outputs": [],
   "source": [
    "plt.rcParams['figure.figsize']=(12, 4) #rescale figures\n",
    "sc.pl.violin(uwp49_merged, 'pct_counts_mt', groupby='sub_sample', multi_panel=False, cut=5)\n",
    "plt.show()\n",
    "\n",
    "sc.pl.violin(uwp49_merged, 'n_counts', groupby='sub_sample', multi_panel=False, log=True, cut=0)\n",
    "plt.show()\n",
    "\n",
    "plt.rcParams['figure.figsize']=(5, 5) #rescale figures\n",
    "\n",
    "#Data quality summary plots\n",
    "p1 = sc.pl.scatter(uwp49_merged, 'n_counts', 'n_genes', color='pct_counts_mt')\n",
    "p2 = sc.pl.scatter(uwp49_merged[uwp49_merged.obs['n_counts']<5000], 'n_counts', 'n_genes', color='pct_counts_mt')"
   ]
  },
  {
   "cell_type": "code",
   "execution_count": null,
   "id": "689f878c",
   "metadata": {},
   "outputs": [],
   "source": [
    "plt.rcParams['figure.figsize']=(5, 5) #rescale figures\n",
    "\n",
    "#Thresholding decision: counts\n",
    "p3 = sns.distplot(uwp49_merged.obs['n_counts'], kde=False)\n",
    "plt.show()\n",
    "\n",
    "p4 = sns.distplot(uwp49_merged.obs['n_counts'][uwp49_merged.obs['n_counts']<5000], kde=False, bins=60)\n",
    "plt.show()\n",
    "\n",
    "p5 = sns.distplot(uwp49_merged.obs['n_counts'][uwp49_merged.obs['n_counts']>17500], kde=False, bins=60)\n",
    "plt.show()\n",
    "\n",
    "#Thresholding decision: genes\n",
    "p6 = sns.distplot(uwp49_merged.obs['n_genes'][uwp49_merged.obs['n_genes'] > 3000], kde=False, bins=60)\n",
    "plt.show()\n",
    "\n",
    "p7 = sns.distplot(uwp49_merged.obs['n_genes'][uwp49_merged.obs['n_genes']<1000], kde=False, bins=60)\n",
    "plt.show()"
   ]
  },
  {
   "cell_type": "code",
   "execution_count": null,
   "id": "cfe2d613",
   "metadata": {},
   "outputs": [],
   "source": [
    "# Filter cells according to identified QC thresholds:\n",
    "print('Total number of cells: {:d}'.format(uwp49_merged.n_obs))\n",
    "\n",
    "sc.pp.filter_cells(uwp49_merged, min_counts = 300)\n",
    "print('Number of cells after min count filter: {:d}'.format(uwp49_merged.n_obs))\n",
    "\n",
    "sc.pp.filter_cells(uwp49_merged, max_counts = 25000)\n",
    "print('Number of cells after max count filter: {:d}'.format(uwp49_merged.n_obs))\n",
    "\n",
    "uwp49_merged = uwp49_merged[uwp49_merged.obs['pct_counts_mt'] < 10.0] # Should be either 5 or 10\n",
    "print('Number of cells after MT filter: {:d}'.format(uwp49_merged.n_obs))\n",
    "\n",
    "sc.pp.filter_cells(uwp49_merged, max_genes = 5000)\n",
    "print('Number of cells after gene filter: {:d}'.format(uwp49_merged.n_obs))\n",
    "\n",
    "sc.pp.filter_cells(uwp49_merged, min_genes = 500)\n",
    "print('Number of cells after gene filter: {:d}'.format(uwp49_merged.n_obs))\n",
    "\n",
    "sc.pp.filter_genes(uwp49_merged, min_cells=3)\n",
    "print('Number of genes after cell filter: {:d}'.format(uwp49_merged.n_vars))"
   ]
  },
  {
   "cell_type": "markdown",
   "id": "843dec2b",
   "metadata": {},
   "source": [
    "### SW PWD7"
   ]
  },
  {
   "cell_type": "code",
   "execution_count": null,
   "id": "f3b9bb41",
   "metadata": {},
   "outputs": [],
   "source": [
    "swpwd7_merged.obs['n_counts'] = swpwd7_merged.X.sum(1)\n",
    "swpwd7_merged.obs['log_counts'] = np.log(swpwd7_merged.obs['n_counts'])\n",
    "swpwd7_merged.obs['n_genes'] = (swpwd7_merged.X > 0).sum(1)\n",
    "\n",
    "# Calculate the percentage of mitochondrial gene expression\n",
    "mito_genes = swpwd7_merged.var_names.str.match('mt-')\n",
    "mt_sum = np.sum(swpwd7_merged[:, mito_genes].X, axis=1)\n",
    "total_sum = np.sum(swpwd7_merged.X, axis=1)\n",
    "# the `.A1` is only necessary as X is sparse (to transform to a dense array after summing)\n",
    "if sparse.issparse(swpwd7_merged.X):\n",
    "    mt_sum = mt_sum.A1\n",
    "    total_sum = total_sum.A1\n",
    "swpwd7_merged.obs['pct_counts_mt'] =  100.0 * mt_sum / total_sum\n"
   ]
  },
  {
   "cell_type": "code",
   "execution_count": null,
   "id": "6dcc2ed9",
   "metadata": {},
   "outputs": [],
   "source": [
    "plt.rcParams['figure.figsize']=(12, 4) #rescale figures\n",
    "sc.pl.violin(swpwd7_merged, 'pct_counts_mt', groupby='sub_sample', multi_panel=False, cut=5)\n",
    "`plt.show()\n",
    "\n",
    "plt.rcParams['figure.figsize']=(12, 4) #rescale figures\n",
    "sc.pl.violin(swpwd7_merged, 'n_counts', groupby='sub_sample', multi_panel=False, log=True, cut=0)\n",
    "plt.show()\n",
    "\n",
    "plt.rcParams['figure.figsize']=(5, 5) #rescale figures\n",
    "\n",
    "#Data quality summary plots\n",
    "p1 = sc.pl.scatter(swpwd7_merged, 'n_counts', 'n_genes', color='pct_counts_mt')\n",
    "p2 = sc.pl.scatter(swpwd7_merged[swpwd7_merged.obs['n_counts']<5000], 'n_counts', 'n_genes', color='pct_counts_mt')"
   ]
  },
  {
   "cell_type": "code",
   "execution_count": null,
   "id": "09c549b8",
   "metadata": {},
   "outputs": [],
   "source": [
    "plt.rcParams['figure.figsize']=(5, 5) #rescale figures\n",
    "\n",
    "#Thresholding decision: counts\n",
    "p3 = sns.distplot(swpwd7_merged.obs['n_counts'], kde=False)\n",
    "plt.show()\n",
    "\n",
    "p4 = sns.distplot(swpwd7_merged.obs['n_counts'][swpwd7_merged.obs['n_counts']<5000], kde=False, bins=60)\n",
    "plt.show()\n",
    "\n",
    "p5 = sns.distplot(swpwd7_merged.obs['n_counts'][swpwd7_merged.obs['n_counts']>10000], kde=False, bins=60)\n",
    "plt.show()\n",
    "\n",
    "#Thresholding decision: genes\n",
    "p6 = sns.distplot(swpwd7_merged.obs['n_genes'][swpwd7_merged.obs['n_genes'] > 2000], kde=False, bins=60)\n",
    "plt.show()\n",
    "\n",
    "p7 = sns.distplot(swpwd7_merged.obs['n_genes'][swpwd7_merged.obs['n_genes']<1500], kde=False, bins=60)\n",
    "plt.show()"
   ]
  },
  {
   "cell_type": "code",
   "execution_count": null,
   "id": "f8c96d48",
   "metadata": {},
   "outputs": [],
   "source": [
    "# Filter cells according to identified QC thresholds:\n",
    "print('Total number of cells: {:d}'.format(swpwd7_merged.n_obs))\n",
    "\n",
    "sc.pp.filter_cells(swpwd7_merged, min_counts = 300)\n",
    "print('Number of cells after min count filter: {:d}'.format(swpwd7_merged.n_obs))\n",
    "\n",
    "sc.pp.filter_cells(swpwd7_merged, max_counts = 30000)\n",
    "print('Number of cells after max count filter: {:d}'.format(swpwd7_merged.n_obs))\n",
    "\n",
    "uw_p20_merged = swpwd7_merged[swpwd7_merged.obs['pct_counts_mt'] < 5.0] # Should be either 5 or 10\n",
    "print('Number of cells after MT filter: {:d}'.format(swpwd7_merged.n_obs))\n",
    "\n",
    "sc.pp.filter_cells(swpwd7_merged, max_genes = 4500)\n",
    "print('Number of cells after gene filter: {:d}'.format(swpwd7_merged.n_obs))\n",
    "\n",
    "sc.pp.filter_cells(swpwd7_merged, min_genes = 400)\n",
    "print('Number of cells after gene filter: {:d}'.format(swpwd7_merged.n_obs))\n",
    "\n",
    "sc.pp.filter_genes(swpwd7_merged, min_cells=3)\n",
    "print('Number of genes after cell filter: {:d}'.format(swpwd7_merged.n_vars))"
   ]
  },
  {
   "cell_type": "markdown",
   "id": "38420052",
   "metadata": {},
   "source": [
    "### LW PWD12"
   ]
  },
  {
   "cell_type": "code",
   "execution_count": null,
   "id": "b5229267",
   "metadata": {},
   "outputs": [],
   "source": [
    "lwpwd12_merged.obs['n_counts'] = lwpwd12_merged.X.sum(1)\n",
    "lwpwd12_merged.obs['log_counts'] = np.log(lwpwd12_merged.obs['n_counts'])\n",
    "lwpwd12_merged.obs['n_genes'] = (lwpwd12_merged.X > 0).sum(1)\n",
    "\n",
    "# Calculate the percentage of mitochondrial gene expression\n",
    "mito_genes = lwpwd12_merged.var_names.str.match('mt-')\n",
    "mt_sum = np.sum(lwpwd12_merged[:, mito_genes].X, axis=1)\n",
    "total_sum = np.sum(lwpwd12_merged.X, axis=1)\n",
    "# the `.A1` is only necessary as X is sparse (to transform to a dense array after summing)\n",
    "if sparse.issparse(lwpwd12_merged.X):\n",
    "    mt_sum = mt_sum.A1\n",
    "    total_sum = total_sum.A1\n",
    "lwpwd12_merged.obs['pct_counts_mt'] =  100.0 * mt_sum / total_sum\n"
   ]
  },
  {
   "cell_type": "code",
   "execution_count": null,
   "id": "fb8627b0",
   "metadata": {},
   "outputs": [],
   "source": [
    "plt.rcParams['figure.figsize']=(12, 4) #rescale figures\n",
    "sc.pl.violin(lwpwd12_merged, 'pct_counts_mt', groupby='sub_sample', multi_panel=False, cut=5)\n",
    "plt.show()\n",
    "\n",
    "sc.pl.violin(lwpwd12_merged, 'n_counts', groupby='sub_sample', multi_panel=False, log=True, cut=0)\n",
    "plt.show()\n",
    "plt.rcParams['figure.figsize']=(5, 5) #rescale figures\n",
    "\n",
    "#Data quality summary plots\n",
    "p1 = sc.pl.scatter(lwpwd12_merged, 'n_counts', 'n_genes', color='pct_counts_mt')\n",
    "p2 = sc.pl.scatter(lwpwd12_merged[lwpwd12_merged.obs['n_counts']<5000], 'n_counts', 'n_genes', color='pct_counts_mt')\n"
   ]
  },
  {
   "cell_type": "code",
   "execution_count": null,
   "id": "4ab4cc90",
   "metadata": {},
   "outputs": [],
   "source": [
    "plt.rcParams['figure.figsize']=(5, 5) #rescale figures\n",
    "\n",
    "#Thresholding decision: counts\n",
    "p3 = sns.distplot(lwpwd12_merged.obs['n_counts'], kde=False)\n",
    "plt.show()\n",
    "\n",
    "p4 = sns.distplot(lwpwd12_merged.obs['n_counts'][lwpwd12_merged.obs['n_counts']<5000], kde=False, bins=60)\n",
    "plt.show()\n",
    "\n",
    "p5 = sns.distplot(lwpwd12_merged.obs['n_counts'][lwpwd12_merged.obs['n_counts']>5000], kde=False, bins=60)\n",
    "plt.show()\n",
    "\n",
    "#Thresholding decision: genes\n",
    "p6 = sns.distplot(lwpwd12_merged.obs['n_genes'][lwpwd12_merged.obs['n_genes'] > 2000], kde=False, bins=60)\n",
    "plt.show()\n",
    "\n",
    "p7 = sns.distplot(lwpwd12_merged.obs['n_genes'][lwpwd12_merged.obs['n_genes']<1000], kde=False, bins=60)\n",
    "plt.show()"
   ]
  },
  {
   "cell_type": "code",
   "execution_count": null,
   "id": "54c5a9f1",
   "metadata": {},
   "outputs": [],
   "source": [
    "# Filter cells according to identified QC thresholds:\n",
    "print('Total number of cells: {:d}'.format(lwpwd12_merged.n_obs))\n",
    "\n",
    "sc.pp.filter_cells(lwpwd12_merged, min_counts = 300)\n",
    "print('Number of cells after min count filter: {:d}'.format(lwpwd12_merged.n_obs))\n",
    "\n",
    "sc.pp.filter_cells(lwpwd12_merged, max_counts = 10000)\n",
    "print('Number of cells after max count filter: {:d}'.format(lwpwd12_merged.n_obs))\n",
    "\n",
    "lwpwd12_merged = lwpwd12_merged[lwpwd12_merged.obs['pct_counts_mt'] < 10.0] # Should be either 5 or 10\n",
    "print('Number of cells after MT filter: {:d}'.format(lwpwd12_merged.n_obs))\n",
    "\n",
    "sc.pp.filter_cells(lwpwd12_merged, max_genes = 3000)\n",
    "print('Number of cells after gene filter: {:d}'.format(lwpwd12_merged.n_obs))\n",
    "\n",
    "sc.pp.filter_cells(lwpwd12_merged, min_genes = 450)\n",
    "print('Number of cells after gene filter: {:d}'.format(lwpwd12_merged.n_obs))\n",
    "\n",
    "sc.pp.filter_genes(lwpwd12_merged, min_cells=3)\n",
    "print('Number of genes after cell filter: {:d}'.format(lwpwd12_merged.n_vars))"
   ]
  },
  {
   "cell_type": "markdown",
   "id": "6b1e3a72",
   "metadata": {},
   "source": [
    "### LW PWD14"
   ]
  },
  {
   "cell_type": "code",
   "execution_count": null,
   "id": "423082dc",
   "metadata": {},
   "outputs": [],
   "source": [
    "lwpwd14_merged.obs['n_counts'] = lwpwd14_merged.X.sum(1)\n",
    "lwpwd14_merged.obs['log_counts'] = np.log(lwpwd14_merged.obs['n_counts'])\n",
    "lwpwd14_merged.obs['n_genes'] = (lwpwd14_merged.X > 0).sum(1)\n",
    "\n",
    "# Calculate the percentage of mitochondrial gene expression\n",
    "mito_genes = lwpwd14_merged.var_names.str.match('mt-')\n",
    "mt_sum = np.sum(lwpwd14_merged[:, mito_genes].X, axis=1)\n",
    "total_sum = np.sum(lwpwd14_merged.X, axis=1)\n",
    "# the `.A1` is only necessary as X is sparse (to transform to a dense array after summing)\n",
    "if sparse.issparse(lwpwd14_merged.X):\n",
    "    mt_sum = mt_sum.A1\n",
    "    total_sum = total_sum.A1\n",
    "lwpwd14_merged.obs['pct_counts_mt'] =  100.0 * mt_sum / total_sum\n"
   ]
  },
  {
   "cell_type": "code",
   "execution_count": null,
   "id": "b0265273",
   "metadata": {},
   "outputs": [],
   "source": [
    "plt.rcParams['figure.figsize']=(12, 4) #rescale figures\n",
    "sc.pl.violin(lwpwd14_merged, 'pct_counts_mt', groupby='sub_sample', multi_panel=False, cut=5)\n",
    "plt.show()\n",
    "\n",
    "plt.rcParams['figure.figsize']=(12, 4) #rescale figures\n",
    "sc.pl.violin(lwpwd14_merged, 'n_counts', groupby='sub_sample', multi_panel=False, log=True, cut=0)\n",
    "plt.show()\n",
    "\n",
    "plt.rcParams['figure.figsize']=(5, 5) #rescale figures\n",
    "\n",
    "#Data quality summary plots\n",
    "p1 = sc.pl.scatter(lwpwd14_merged, 'n_counts', 'n_genes', color='pct_counts_mt')\n",
    "p2 = sc.pl.scatter(lwpwd14_merged[lwpwd14_merged.obs['n_counts']<5000], 'n_counts', 'n_genes', color='pct_counts_mt')"
   ]
  },
  {
   "cell_type": "code",
   "execution_count": null,
   "id": "964478be",
   "metadata": {},
   "outputs": [],
   "source": [
    "plt.rcParams['figure.figsize']=(5, 5) #rescale figures\n",
    "\n",
    "#Thresholding decision: counts\n",
    "p3 = sns.distplot(lwpwd14_merged.obs['n_counts'], kde=False)\n",
    "plt.show()\n",
    "\n",
    "p4 = sns.distplot(lwpwd14_merged.obs['n_counts'][lwpwd14_merged.obs['n_counts']<5000], kde=False, bins=60)\n",
    "plt.show()\n",
    "\n",
    "p5 = sns.distplot(lwpwd14_merged.obs['n_counts'][lwpwd14_merged.obs['n_counts']>5000], kde=False, bins=60)\n",
    "plt.show()\n",
    "\n",
    "#Thresholding decision: genes\n",
    "p6 = sns.distplot(lwpwd14_merged.obs['n_genes'][lwpwd14_merged.obs['n_genes'] > 2000], kde=False, bins=60)\n",
    "plt.show()\n",
    "\n",
    "p7 = sns.distplot(lwpwd14_merged.obs['n_genes'][lwpwd14_merged.obs['n_genes']<1500], kde=False, bins=60)\n",
    "plt.show()"
   ]
  },
  {
   "cell_type": "code",
   "execution_count": null,
   "id": "16900bcc",
   "metadata": {},
   "outputs": [],
   "source": [
    "# Filter cells according to identified QC thresholds:\n",
    "print('Total number of cells: {:d}'.format(lwpwd14_merged.n_obs))\n",
    "\n",
    "sc.pp.filter_cells(lwpwd14_merged, min_counts = 300)\n",
    "print('Number of cells after min count filter: {:d}'.format(lwpwd14_merged.n_obs))\n",
    "\n",
    "sc.pp.filter_cells(lwpwd14_merged, max_counts = 35000)\n",
    "print('Number of cells after max count filter: {:d}'.format(lwpwd12_gj19_merged.n_obs))\n",
    "\n",
    "lwpwd14_merged = lwpwd14_merged[lwpwd14_merged.obs['pct_counts_mt'] < 5.0] # Should be either 5 or 10\n",
    "print('Number of cells after MT filter: {:d}'.format(lwpwd14_merged.n_obs))\n",
    "\n",
    "sc.pp.filter_cells(lwpwd14_merged, max_genes = 5000)\n",
    "print('Number of cells after gene filter: {:d}'.format(lwpwd14_merged.n_obs))\n",
    "\n",
    "sc.pp.filter_cells(lwpwd14_merged, min_genes = 800)\n",
    "print('Number of cells after gene filter: {:d}'.format(lwpwd14_merged.n_obs))\n",
    "\n",
    "sc.pp.filter_genes(lwpwd14_merged, min_cells=3)\n",
    "print('Number of genes after cell filter: {:d}'.format(lwpwd14_merged.n_vars))"
   ]
  },
  {
   "cell_type": "markdown",
   "id": "af407598",
   "metadata": {},
   "source": [
    "### LW PWD18"
   ]
  },
  {
   "cell_type": "code",
   "execution_count": null,
   "id": "9d177836",
   "metadata": {},
   "outputs": [],
   "source": [
    "lwpwd18_merged.obs['n_counts'] = lwpwd18_merged.X.sum(1)\n",
    "lwpwd18_merged.obs['log_counts'] = np.log(lwpwd18_merged.obs['n_counts'])\n",
    "lwpwd18_merged.obs['n_genes'] = (lwpwd18_merged.X > 0).sum(1)\n",
    "\n",
    "# Calculate the percentage of mitochondrial gene expression\n",
    "mito_genes = lwpwd18_merged.var_names.str.match('mt-')\n",
    "mt_sum = np.sum(lwpwd18_merged[:, mito_genes].X, axis=1)\n",
    "total_sum = np.sum(lwpwd18_merged.X, axis=1)\n",
    "# the `.A1` is only necessary as X is sparse (to transform to a dense array after summing)\n",
    "if sparse.issparse(lwpwd18_merged.X):\n",
    "    mt_sum = mt_sum.A1\n",
    "    total_sum = total_sum.A1\n",
    "lwpwd18_merged.obs['pct_counts_mt'] =  100.0 * mt_sum / total_sum\n"
   ]
  },
  {
   "cell_type": "code",
   "execution_count": null,
   "id": "801426eb",
   "metadata": {},
   "outputs": [],
   "source": [
    "plt.rcParams['figure.figsize']=(12, 4) #rescale figures\n",
    "sc.pl.violin(lwpwd18_merged, 'pct_counts_mt', groupby='sub_sample', multi_panel=False, cut=5)\n",
    "plt.show()\n",
    "\n",
    "sc.pl.violin(lwpwd18_merged, 'n_counts', groupby='sub_sample', multi_panel=False, log=True, cut=0)\n",
    "plt.show()\n",
    "\n",
    "plt.rcParams['figure.figsize']=(5, 5) #rescale figures\n",
    "\n",
    "#Data quality summary plots\n",
    "p1 = sc.pl.scatter(lwpwd18_merged, 'n_counts', 'n_genes', color='pct_counts_mt')\n",
    "p2 = sc.pl.scatter(lwpwd18_merged[lwpwd18_merged.obs['n_counts']<5000], 'n_counts', 'n_genes', color='pct_counts_mt')"
   ]
  },
  {
   "cell_type": "code",
   "execution_count": null,
   "id": "13ef8d54",
   "metadata": {},
   "outputs": [],
   "source": [
    "plt.rcParams['figure.figsize']=(5, 5) #rescale figures\n",
    "\n",
    "#Thresholding decision: counts\n",
    "p3 = sns.distplot(lwpwd18_merged.obs['n_counts'], kde=False)\n",
    "plt.show()\n",
    "\n",
    "p4 = sns.distplot(lwpwd18_merged.obs['n_counts'][lwpwd18_merged.obs['n_counts']<5000], kde=False, bins=60)\n",
    "plt.show()\n",
    "\n",
    "p5 = sns.distplot(lwpwd18_merged.obs['n_counts'][lwpwd18_merged.obs['n_counts']>10000], kde=False, bins=60)\n",
    "plt.show()\n",
    "\n",
    "#Thresholding decision: genes\n",
    "p6 = sns.distplot(lwpwd18_merged.obs['n_genes'][lwpwd18_merged.obs['n_genes'] > 3000], kde=False, bins=60)\n",
    "plt.show()\n",
    "\n",
    "p7 = sns.distplot(lwpwd18_merged.obs['n_genes'][lwpwd18_merged.obs['n_genes']<1500], kde=False, bins=60)\n",
    "plt.show()"
   ]
  },
  {
   "cell_type": "code",
   "execution_count": null,
   "id": "f6cdd831",
   "metadata": {},
   "outputs": [],
   "source": [
    "# Filter cells according to identified QC thresholds:\n",
    "print('Total number of cells: {:d}'.format(lwpwd18_merged.n_obs))\n",
    "\n",
    "sc.pp.filter_cells(lwpwd18_merged, min_counts = 300)\n",
    "print('Number of cells after min count filter: {:d}'.format(lwpwd18_merged.n_obs))\n",
    "\n",
    "sc.pp.filter_cells(lwpwd18_merged, max_counts = 30000)\n",
    "print('Number of cells after max count filter: {:d}'.format(lwpwd18_merged.n_obs))\n",
    "\n",
    "lwpwd18_merged = lwpwd18_merged[lwpwd18_merged.obs['pct_counts_mt'] < 10.0] # Should be either 5 or 10\n",
    "print('Number of cells after MT filter: {:d}'.format(lwpwd18_merged.n_obs))\n",
    "\n",
    "sc.pp.filter_cells(lwpwd18_merged, max_genes = 5000)\n",
    "print('Number of cells after gene filter: {:d}'.format(lwpwd18_merged.n_obs))\n",
    "\n",
    "sc.pp.filter_cells(lwpwd18_merged, min_genes = 250)\n",
    "print('Number of cells after gene filter: {:d}'.format(lwpwd18_merged.n_obs))\n",
    "\n",
    "sc.pp.filter_genes(lwpwd18_merged, min_cells=3)\n",
    "print('Number of genes after cell filter: {:d}'.format(lwpwd18_merged.n_vars))"
   ]
  },
  {
   "cell_type": "markdown",
   "id": "43d4d2b1",
   "metadata": {},
   "source": [
    "# Merge datasets and normalise"
   ]
  },
  {
   "cell_type": "code",
   "execution_count": null,
   "id": "71aa430b",
   "metadata": {},
   "outputs": [],
   "source": [
    "# We now join up the datasets into a single annotated data frame\n",
    "wound_full_merged = uwp21_merged.concatenate([uwp49_merged, swpwd4_merged, swpwd7_merged, lwpwd12_merged, lwpwd14_merged, lwpwd18_merged], join='outer')\n",
    "wound_full_merged.obs_names_make_unique(join='_')\n",
    "wound_full_merged.obs.index = wound_full_merged.obs.index.str.split('-').str[0]\n",
    "wound_full_merged.obs_names_make_unique(join='_')\n"
   ]
  },
  {
   "cell_type": "code",
   "execution_count": null,
   "id": "04c5fe13",
   "metadata": {},
   "outputs": [],
   "source": [
    "# Store the raw counts as a layer\n",
    "wound_full_merged.layers['counts'] = wound_full_merged.X.copy()\n",
    "\n",
    "# Normalise the data\n",
    "sc.pp.normalize_total(wound_full_merged, target_sum=1e4)\n",
    "sc.pp.log1p(wound_full_merged)"
   ]
  },
  {
   "cell_type": "code",
   "execution_count": null,
   "id": "c25e44f6",
   "metadata": {},
   "outputs": [],
   "source": [
    "# Identify the highly-variable genes. We use the CellRanger routine provided in Scanpy.\n",
    "target_genes = 4000\n",
    "sc.pp.highly_variable_genes(wound_full_merged, flavor='cell_ranger', n_top_genes=target_genes, batch_key='sample')"
   ]
  },
  {
   "cell_type": "code",
   "execution_count": null,
   "id": "9c8aa619",
   "metadata": {},
   "outputs": [],
   "source": [
    "# As we don't have enough target genes, we need to consider HVGs in all but one batches.\n",
    "n_batches = len(wound_full_merged.obs['sample'].cat.categories)\n",
    "# These are the genes that are variable across all batches\n",
    "nbatch1_dispersions = wound_full_merged.var['dispersions_norm'][wound_full_merged.var.highly_variable_nbatches > n_batches - 1]\n",
    "nbatch1_dispersions.sort_values(ascending=False, inplace=True)\n",
    "print(len(nbatch1_dispersions))\n",
    "\n",
    "# Fill up the genes now, using this method from the Theis lab\n",
    "enough = False\n",
    "hvg = nbatch1_dispersions.index[:]\n",
    "not_n_batches = 1\n",
    "\n",
    "# We'll go down one by one, until we're selecting HVGs from just a single gbatch\n",
    "while not enough:\n",
    "    \n",
    "    target_genes_diff = target_genes - len(hvg) # Get the number of genes we still need to fill up\n",
    "    \n",
    "    tmp_dispersions = wound_full_merged.var['dispersions_norm'][wound_full_merged.var.highly_variable_nbatches == (n_batches - not_n_batches)]\n",
    "    \n",
    "    # If we haven't hit the target gene numbers, add this to the list and we repeat this iteration\n",
    "    if len(tmp_dispersions) < target_genes_diff:\n",
    "        \n",
    "        hvg = hvg.append(tmp_dispersions.index)\n",
    "        not_n_batches += 1\n",
    "        \n",
    "    else:\n",
    "        \n",
    "        tmp_dispersions.sort_values(ascending=False, inplace=True)\n",
    "        hvg = hvg.append(tmp_dispersions.index[:target_genes_diff])\n",
    "        enough = True"
   ]
  },
  {
   "cell_type": "markdown",
   "id": "a5e974ee",
   "metadata": {},
   "source": [
    "# Data integration via Scanorama"
   ]
  },
  {
   "cell_type": "markdown",
   "id": "e724322d",
   "metadata": {},
   "source": [
    "Subset the data on the HVG to speed things up"
   ]
  },
  {
   "cell_type": "code",
   "execution_count": null,
   "id": "c5abb325",
   "metadata": {},
   "outputs": [],
   "source": [
    "wound_full_merged_hvg = wound_full_merged[:, hvg] # Filter out genes that do not vary much across cells"
   ]
  },
  {
   "cell_type": "code",
   "execution_count": null,
   "id": "ed6ad2a8",
   "metadata": {},
   "outputs": [],
   "source": [
    "# Split the data into batches (marked by 'sample')\n",
    "wound_full_split = []\n",
    "\n",
    "for sample in wound_full_merged_hvg.obs['sample'].unique():\n",
    "    wound_full_split.append(wound_full_merged_hvg[wound_full_merged_hvg.obs['sample']==sample].copy())"
   ]
  },
  {
   "cell_type": "markdown",
   "id": "c0d9f14e",
   "metadata": {},
   "source": [
    "Now we run Scanorama on the split data to obtain an integrated reduced dimension embedding."
   ]
  },
  {
   "cell_type": "code",
   "execution_count": null,
   "id": "8c021402",
   "metadata": {},
   "outputs": [],
   "source": [
    "%%time\n",
    "scrama.integrate_scanpy(wound_full_split, ds_names = list(wound_full_merged_hvg.obs['sample'].unique()))"
   ]
  },
  {
   "cell_type": "code",
   "execution_count": null,
   "id": "c3a856f4",
   "metadata": {},
   "outputs": [],
   "source": [
    "# Consider when we just take the embedding\n",
    "embeddings = [adata.obsm['X_scanorama'] for adata in wound_full_split]\n",
    "embeddings_joined = np.concatenate(embeddings, axis=0)\n",
    "wound_full_merged.obsm['X_SC'] = embeddings_joined"
   ]
  },
  {
   "cell_type": "code",
   "execution_count": null,
   "id": "eb1103ac",
   "metadata": {},
   "outputs": [],
   "source": [
    "# Generate the kNN graph and calculate the UMAp\n",
    "sc.pp.neighbors(wound_full_merged, use_rep = \"X_SC\", n_neighbors=30)\n",
    "sc.tl.umap(wound_full_merged)"
   ]
  },
  {
   "cell_type": "code",
   "execution_count": null,
   "id": "43b2d60c",
   "metadata": {},
   "outputs": [],
   "source": [
    "plt.rcParams['figure.figsize']=(6, 6) #rescale figures\n",
    "sc.pl.umap(wound_full_merged, color='sample')"
   ]
  },
  {
   "cell_type": "markdown",
   "id": "6b713891",
   "metadata": {},
   "source": [
    "# Clustering and cell type identification"
   ]
  },
  {
   "cell_type": "code",
   "execution_count": null,
   "id": "f111f2cf",
   "metadata": {},
   "outputs": [],
   "source": [
    "# Cluster the data now\n",
    "sc.tl.leiden(wound_full_merged, resolution = 0.3, key_added = 'leiden')"
   ]
  },
  {
   "cell_type": "code",
   "execution_count": null,
   "id": "3b7c6722",
   "metadata": {},
   "outputs": [],
   "source": [
    "sc.tl.rank_genes_groups(wound_full_merged, 'leiden', key_added = 'leiden', method='wilcoxon')"
   ]
  },
  {
   "cell_type": "code",
   "execution_count": null,
   "id": "88daea15",
   "metadata": {},
   "outputs": [],
   "source": [
    "# Rename the clusters\n",
    "new_cluster_names = ['Epidermal 1', 'Fibroblast 1', 'Fibroblast 2', 'Epidermal 2', 'Immune 1', \\\n",
    "                     'Fibroblast 3', 'Pericyte', 'Immune 2', 'Epidermal 3', 'Endothelial',\\\n",
    "                     'Epidermal 4', 'Schwann', 'Fibroblast 4', 'Lymphatic endothelial', 'Epidermal 5', \\\n",
    "                     'Immune 3', 'Melanocyte', 'Langerhans cell', 'Skeletal muscle', 'Smooth muscle']\n",
    "wound_full_merged.rename_categories('leiden', new_cluster_names)"
   ]
  },
  {
   "cell_type": "code",
   "execution_count": null,
   "id": "63d748da",
   "metadata": {},
   "outputs": [],
   "source": [
    "new_leiden_colours = np.array(['#023fa5', '#8e063b', '#d33e6a', '#4b68af', '#11c638', '#bb7784',\\\n",
    "                              '#ef9708', '#8dd593', '#7d87b9', '#f0b98d', '#8595e1', '#bec1d4',\\\n",
    "                              '#e07b91', '#ead3c6', '#b5bbe3', '#c6dec7', '#0fcfc0', '#9cded6',\\\n",
    "                              '#a58c88', '#f6c4e1' , '#f3e1eb', '#d5eae7', '#d33e6a'])\n",
    "wound_full_merged.uns['leiden_colors'] = new_leiden_colours"
   ]
  },
  {
   "cell_type": "markdown",
   "id": "007650c7",
   "metadata": {},
   "source": [
    "# Plot the integration metrics"
   ]
  },
  {
   "cell_type": "code",
   "execution_count": null,
   "id": "157b3ac2",
   "metadata": {},
   "outputs": [],
   "source": [
    "integration_metrics = pd.read_csv(results_directory + 'integratedskin_integrationmetrics.csv', index_col=0)\n",
    "integration_metrics.rename(columns={'0':'Value'}, inplace=True)\n",
    "integration_metrics.dropna(subset=['Value'], inplace=True) # Some of these weren't calculated, so we drop them."
   ]
  },
  {
   "cell_type": "code",
   "execution_count": null,
   "id": "f2b5fbfb",
   "metadata": {},
   "outputs": [],
   "source": [
    "metrics_types = ['Bio conservation', 'Bio conservation', 'Bio conservation', 'Batch correction',\\\n",
    "                 'Batch correction', 'Bio conservation', 'Bio conservation', 'Bio conservation',\\\n",
    "                 'Batch correction', 'Batch correction']\n",
    "integration_metrics['Type'] = pd.Series(index=integration_metrics.index, data=metrics_types, dtype='category')"
   ]
  },
  {
   "cell_type": "code",
   "execution_count": null,
   "id": "c143456f",
   "metadata": {},
   "outputs": [],
   "source": [
    "metrics_order = ['PCR_batch', 'ASW_label/batch', 'kBET', 'graph_conn', 'NMI_cluster/label', 'ARI_cluster/label', 'ASW_label', 'isolated_label_F1', 'cell_cycle_conservation', 'isolated_label_silhouette']\n",
    "integration_metrics = integration_metrics.reindex(metrics_order)\n",
    "\n",
    "# Some of these are irrelevant for our needs, so we don't plot them.\n",
    "integration_metrics_subset = integration_metrics.iloc[[0, 1, 2, 3, 4, 6,7, 9],:]\n"
   ]
  },
  {
   "cell_type": "code",
   "execution_count": null,
   "id": "f5beb847",
   "metadata": {},
   "outputs": [],
   "source": [
    "integration_metrics_subset.rename(index={'PCR_batch':'PCR batch', 'ASW_label/batch':'ASW batch', 'graph_conn':'Graph connectivity',\\\n",
    "                                        'NMI_cluster/label': 'NMI label', 'ASW_label': 'ASW label', 'isolated_label_F1':'Isolated label F1',\\\n",
    "                                        'isolated_label_silhouette': 'Isolated label silhouette'}, inplace=True)"
   ]
  },
  {
   "cell_type": "code",
   "execution_count": null,
   "id": "f22d9a72",
   "metadata": {},
   "outputs": [],
   "source": [
    "metric_colours = {'Batch correction': 'blue', \"Bio conservation\": \"orange\"}\n",
    "\n",
    "ax = integration_metrics_subset.plot.bar(y='Value', rot=90, width=0.8, figsize=(6, 12), linewidth=1.0, color=[metric_colours[i] for i in integration_metrics['Type']])\n",
    "plt.legend(loc='center left', bbox_to_anchor=(1.0, 0.5))\n"
   ]
  },
  {
   "cell_type": "markdown",
   "id": "c1feb7da",
   "metadata": {},
   "source": [
    "# Plot the cell type composition across time "
   ]
  },
  {
   "cell_type": "code",
   "execution_count": null,
   "id": "62c0d60d",
   "metadata": {},
   "outputs": [],
   "source": [
    "wound_merged_df = wound_full_merged.obs\n",
    "\n",
    "sample_order = ['UW P21', 'UW P49', 'SW PWD4', 'SW PWD7', 'LW PWD12', 'LW PWD14', 'LW FIB PWD18', 'LW REG PWD18']\n",
    "\n",
    "tmp = pd.crosstab(wound_merged_df['sample'], wound_merged_df['leiden'], normalize='index')\n",
    "tmp = tmp.reindex(sample_order)"
   ]
  },
  {
   "cell_type": "code",
   "execution_count": null,
   "id": "c96c8d14",
   "metadata": {},
   "outputs": [],
   "source": [
    "axis = tmp.plot.bar(stacked=True, width=0.9, grid=False, figsize=(6,10), linewidth=1.0, color=new_leiden_colours)\n",
    "# axis.invert_yaxis()\n",
    "plt.legend(loc='center left', bbox_to_anchor=(1.0, 0.5))\n",
    "fig = axis.get_figure()"
   ]
  },
  {
   "cell_type": "markdown",
   "id": "58f82c04",
   "metadata": {},
   "source": [
    "# Plot discriminatory cell type marker genes"
   ]
  },
  {
   "cell_type": "code",
   "execution_count": null,
   "id": "6cc0eea1",
   "metadata": {},
   "outputs": [],
   "source": [
    "marker_genes_dict = {'Epidermal 1': ['Lgals7', 'Apoc1', 'Krt5'],\n",
    "                     'Epidermal 2': ['Lgals7', 'Apoc1', 'Krt5'],\n",
    "                     'Epidermal 3': ['Lgals7', 'Apoc1', 'Krt5'],\n",
    "                     'Epidermal 4': ['Lgals7', 'Apoc1', 'Krt5'],\n",
    "                     'Epidermal 5': ['Lgals7', 'Apoc1', 'Krt5'],\n",
    "                    'Fibroblast 1': ['Dcn', 'Lum', 'Crabp1'],\n",
    "                     'Fibroblast 2': ['Dcn', 'Lum', 'Crabp1'],\n",
    "                     'Fibroblast 3': ['Dcn', 'Lum', 'Crabp1'],\n",
    "                     'Fibroblast 4': ['Dcn', 'Lum', 'Crabp1'],\n",
    "                     'Immune 1': ['Cd52', 'Srgn', 'Tyrobp'],\n",
    "                      'Immune 2': ['Cd52', 'Srgn', 'Tyrobp'],\n",
    "                      'Immune 3': ['Cd52', 'Srgn', 'Tyrobp'],\n",
    "                      'Pericyte': ['Rgs5', 'Col4a1'],\n",
    "                     'Endothelial': ['Pecam1', 'Cdh5'],\n",
    "                     'Schwann': ['Plp1', 'Pmp22'],\n",
    "                     'Lymphatic endothelial': ['Cldn5', 'Lyve1'],\n",
    "                     'Melanocyte': ['Dct', 'Mlana'],\n",
    "                     'Langerhans cell': ['Cd74', 'Cd207'],\n",
    "                     'Skeletal muscle': ['Ckm', 'Acta1'],\n",
    "                     'Smooth muscle': ['Mylk', 'Actg2']\n",
    "                    }"
   ]
  },
  {
   "cell_type": "code",
   "execution_count": null,
   "id": "a864aab9",
   "metadata": {},
   "outputs": [],
   "source": [
    "categories = wound_full_merged.obs['leiden_sub'].value_counts().index"
   ]
  },
  {
   "cell_type": "code",
   "execution_count": null,
   "id": "58a41d6f",
   "metadata": {},
   "outputs": [],
   "source": [
    "keys = ['leiden']\n",
    "\n",
    "for category in marker_genes_dict:\n",
    "    genes = marker_genes_dict[category]\n",
    "    \n",
    "    for gene in genes:\n",
    "        if gene not in keys:\n",
    "            keys.append(gene)"
   ]
  },
  {
   "cell_type": "markdown",
   "id": "788090d8",
   "metadata": {},
   "source": [
    "This code is a hacked version from Scanpy's `tracksplot` function and code I am grateful to have received from Suoqin Jin (Wuhan university) that was used in [Guerrero-Juarez et al. (2019)](https://www.nature.com/articles/s41467-018-08247-x). I should say that this plot was then heavily edited in Illustrator afterwards."
   ]
  },
  {
   "cell_type": "code",
   "execution_count": null,
   "id": "0ca06845",
   "metadata": {},
   "outputs": [],
   "source": [
    "# Prepare the data for the tracksplot\n",
    "obs_tidy = sc.get.obs_df(wound_full_merged, keys=keys, use_raw=True)\n",
    "obs_tidy['leiden'] = pd.Categorical(obs_tidy['leiden'], ncategories=categories, ordered=True)\n",
    "obs_tidy = obs_tidy.sort_values('leiden',ascending=True)\n",
    "tracksplot_genes = list(obs_tidy.columns[1:])\n",
    "\n",
    "# Create the trackplot\n",
    "nbins = 10\n",
    "\n",
    "# obtain the start and end of each category and make\n",
    "# a list of ranges that will be used to plot a different\n",
    "# color\n",
    "cumsum = [0] + list(np.cumsum(obs_tidy['leiden'].value_counts(sort=False)))\n",
    "x_values = [(x, y) for x, y in zip(cumsum[:-1], cumsum[1:])]\n",
    "\n",
    "dendro_height = 0\n",
    "\n",
    "groupby_height = 0.24\n",
    "# +2 because of dendrogram on top and categories at bottom\n",
    "num_rows = len(tracksplot_genes) + 2\n",
    "width = 12\n",
    "track_height = 0.25\n",
    "\n",
    "height_ratios = [dendro_height] + [track_height] * len(tracksplot_genes) + [groupby_height]\n",
    "height = 2*sum(height_ratios)\n",
    "\n",
    "obs_tidy = obs_tidy.T\n",
    "\n",
    "fig = plt.figure(figsize=(width, height))\n",
    "axs = gridspec.GridSpec(\n",
    "    ncols=2,\n",
    "    nrows=num_rows,\n",
    "    wspace=1.0 / width,\n",
    "    hspace=0,\n",
    "    height_ratios=height_ratios,\n",
    "    width_ratios=[width, 0.14],\n",
    ")\n",
    "axs_list = []\n",
    "first_ax = None\n",
    "for idx, var in enumerate(tracksplot_genes):\n",
    "    ax_idx = idx + 1  # this is because of the dendrogram\n",
    "    if first_ax is None:\n",
    "        ax = fig.add_subplot(axs[ax_idx, 0])\n",
    "        first_ax = ax\n",
    "    else:\n",
    "        ax = fig.add_subplot(axs[ax_idx, 0], sharex=first_ax)\n",
    "    axs_list.append(ax)\n",
    "    for cat_idx, category in enumerate(categories):\n",
    "        x_start, x_end = x_values[cat_idx]\n",
    "        expression_values = np.sort(obs_tidy.iloc[idx + 1, x_start:x_end].to_numpy()) # Get the expression_values\n",
    "        average_expressions = np.zeros(nbins)\n",
    "\n",
    "        num = int(np.floor(np.size(expression_values)/nbins))\n",
    "\n",
    "        for ave_idx in range(nbins):\n",
    "            if ave_idx < nbins - 1:\n",
    "                average_expressions[ave_idx] = np.mean(expression_values[num*(ave_idx):num*(1 +ave_idx)])\n",
    "            else:\n",
    "                average_expressions[ave_idx] = np.mean(expression_values[num*(ave_idx):])\n",
    "\n",
    "        ax.fill_between(\n",
    "            range(cat_idx*10, (cat_idx + 1)*10),\n",
    "            0,\n",
    "            average_expressions,\n",
    "            lw=0.1,\n",
    "            color=groupby_colors[cat_idx],\n",
    "        )\n",
    "\n",
    "    # remove the xticks labels except for the last processed plot.\n",
    "    # Because the plots share the x axis it is redundant and less compact\n",
    "    # to plot the axis for each plot\n",
    "    if idx < len(tracksplot_genes) - 1:\n",
    "        ax.tick_params(labelbottom=False, labeltop=False, bottom=False, top=False)\n",
    "        ax.set_xlabel('')\n",
    "    ax.spines['left'].set_visible(False)\n",
    "    ax.spines['top'].set_visible(False)\n",
    "    ax.spines['bottom'].set_visible(False)\n",
    "    ax.grid(False)\n",
    "    ymin, ymax = ax.get_ylim()\n",
    "    ymax = int(ymax)\n",
    "    ax.set_yticks([ymax])\n",
    "    ax.set_yticklabels([str(ymax)], ha='left', va='top')\n",
    "    ax.spines['right'].set_position(('axes', 1.01))\n",
    "    ax.tick_params(\n",
    "        axis='y',\n",
    "        labelsize='x-small',\n",
    "        right=True,\n",
    "        left=False,\n",
    "        length=2,\n",
    "        which='both',\n",
    "        labelright=True,\n",
    "        labelleft=False,\n",
    "        direction='in',\n",
    "    )\n",
    "    ax.set_ylabel(var, rotation=0, fontsize='small', ha='right', va='bottom')\n",
    "    ax.yaxis.set_label_coords(-0.005, 0.1)\n",
    "ax.set_xlim(0, len(categories)*10)\n",
    "ax.tick_params(axis='x', bottom=False, labelbottom=False)\n",
    "\n",
    "# the ax to plot the groupby categories is split to add a small space\n",
    "# between the rest of the plot and the categories\n",
    "axs2 = gridspec.GridSpecFromSubplotSpec(\n",
    "    2, 1, subplot_spec=axs[num_rows - 1, 0], height_ratios=[1, 1]\n",
    ")\n",
    "\n",
    "groupby_ax = fig.add_subplot(axs2[1])"
   ]
  },
  {
   "cell_type": "markdown",
   "id": "3c4a84e9",
   "metadata": {},
   "source": [
    "# Save the results"
   ]
  },
  {
   "cell_type": "code",
   "execution_count": null,
   "id": "b43e2eb6",
   "metadata": {},
   "outputs": [],
   "source": [
    "# Save so we don't lose all the good work from Scanorama.\n",
    "init_results_name = 'integratedskindata.h5ad'\n",
    "wound_full_merged.write(results_directory + init_results_name, compression='gzip')"
   ]
  }
 ],
 "metadata": {
  "kernelspec": {
   "display_name": "Python 3 (ipykernel)",
   "language": "python",
   "name": "python3"
  },
  "language_info": {
   "codemirror_mode": {
    "name": "ipython",
    "version": 3
   },
   "file_extension": ".py",
   "mimetype": "text/x-python",
   "name": "python",
   "nbconvert_exporter": "python",
   "pygments_lexer": "ipython3",
   "version": "3.8.14"
  }
 },
 "nbformat": 4,
 "nbformat_minor": 5
}
