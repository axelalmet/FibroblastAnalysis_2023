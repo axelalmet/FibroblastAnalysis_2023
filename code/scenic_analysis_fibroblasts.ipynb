{
 "cells": [
  {
   "cell_type": "code",
   "execution_count": 1,
   "id": "b4074f18",
   "metadata": {},
   "outputs": [
    {
     "name": "stderr",
     "output_type": "stream",
     "text": [
      "OMP: Info #276: omp_set_nested routine deprecated, please use omp_set_max_active_levels instead.\n"
     ]
    }
   ],
   "source": [
    "# Load the relevant packages.\n",
    "import numpy as np\n",
    "import pandas as pd\n",
    "import scanpy as sc\n",
    "import matplotlib.pyplot as plt\n",
    "import seaborn as sns\n",
    "import anndata as ad\n",
    "from scipy import sparse\n",
    "import loompy as lp\n",
    "\n",
    "sc.settings.verbosity = 3 # Possible values: (0) errors, (1) warnings, (2) info, (3) hints\n",
    "sc.settings.set_figure_params(dpi = 100, facecolor='white', fontsize=18, transparent=True)\n",
    "sc.settings.set_figure_params('scvelo')"
   ]
  },
  {
   "cell_type": "code",
   "execution_count": 2,
   "id": "7e39c45e",
   "metadata": {},
   "outputs": [
    {
     "name": "stderr",
     "output_type": "stream",
     "text": [
      "/usr/local/lib/python3.8/site-packages/dask/dataframe/utils.py:369: FutureWarning: pandas.Int64Index is deprecated and will be removed from pandas in a future version. Use pandas.Index with the appropriate dtype instead.\n",
      "  _numeric_index_types = (pd.Int64Index, pd.Float64Index, pd.UInt64Index)\n",
      "/usr/local/lib/python3.8/site-packages/dask/dataframe/utils.py:369: FutureWarning: pandas.Float64Index is deprecated and will be removed from pandas in a future version. Use pandas.Index with the appropriate dtype instead.\n",
      "  _numeric_index_types = (pd.Int64Index, pd.Float64Index, pd.UInt64Index)\n",
      "/usr/local/lib/python3.8/site-packages/dask/dataframe/utils.py:369: FutureWarning: pandas.UInt64Index is deprecated and will be removed from pandas in a future version. Use pandas.Index with the appropriate dtype instead.\n",
      "  _numeric_index_types = (pd.Int64Index, pd.Float64Index, pd.UInt64Index)\n"
     ]
    }
   ],
   "source": [
    "# Load a bunch of pyscenic modules\n",
    "from pyscenic.export import add_scenic_metadata\n",
    "from pyscenic.cli.utils import load_signatures\n",
    "from pyscenic.utils import load_motifs\n",
    "import operator as op\n",
    "from cytoolz import compose\n",
    "from pyscenic.transform import df2regulons\n",
    "import operator as op\n",
    "from IPython.display import HTML, display\n",
    "from pyscenic.rss import regulon_specificity_scores\n",
    "from pyscenic.plotting import plot_rss\n",
    "from adjustText import adjust_text\n",
    "from pyscenic.utils import modules_from_adjacencies\n",
    "\n",
    "import json\n",
    "import zlib\n",
    "import base64"
   ]
  },
  {
   "cell_type": "code",
   "execution_count": 3,
   "id": "54789ec9",
   "metadata": {},
   "outputs": [],
   "source": [
    "# Create the custom colourmap\n",
    "import matplotlib as mpl\n",
    "from copy import copy\n",
    "colour_map = copy(mpl.cm.get_cmap('hot_r'))\n",
    "colour_map.set_under('lightgray')\n",
    "plt.rcParams['figure.figsize']= (6, 6) #rescale figures\n"
   ]
  },
  {
   "cell_type": "code",
   "execution_count": 4,
   "id": "5279a071",
   "metadata": {},
   "outputs": [],
   "source": [
    "# Load the processed fibroblast data\n",
    "results_directory = '../data/' # Initialise the results file"
   ]
  },
  {
   "cell_type": "code",
   "execution_count": 6,
   "id": "865fa5ad",
   "metadata": {},
   "outputs": [],
   "source": [
    "# Load the processed fibroblast and immune data so that we can subset for just the fibroblasts\n",
    "# Load the file\n",
    "file_name = 'integratedfibroblastsdata.h5ad'\n",
    "fibroblasts_merged_scenic = sc.read_h5ad(results_directory + file_name)"
   ]
  },
  {
   "cell_type": "code",
   "execution_count": null,
   "id": "a4c68152",
   "metadata": {},
   "outputs": [],
   "source": [
    "# Load the functional gene sets because we'll need them later\n",
    "ecm_synthesis_genes = pd.read_csv(results_directory + 'fibroblast_ecm_structural_genes.csv')['0'].tolist()\n",
    "ecm_modifying_genes = pd.read_csv(results_directory + 'fibroblast_ecm_modifying_genes.csv')['0'].tolist()\n",
    "signal_ligands = pd.read_csv(results_directory + 'fibroblast_signal_ligands.csv')['0'].tolist()\n",
    "signal_receptors = pd.read_csv(results_directory + 'fibroblast_signal_receptors.csv')['0'].tolist()\n",
    "\n",
    "functional_genes = list(set(ecm_synthesis_genes + ecm_modifying_genes + signal_ligands + signal_receptors))"
   ]
  },
  {
   "cell_type": "code",
   "execution_count": 8,
   "id": "26e31b17",
   "metadata": {},
   "outputs": [
    {
     "name": "stdout",
     "output_type": "stream",
     "text": [
      "Create regulons from a dataframe of enriched features.\n",
      "Additional columns saved: []\n"
     ]
    }
   ],
   "source": [
    "# Load the regulons\n",
    "regulon_signatures = load_signatures(results_directory + 'reg_fib.csv')"
   ]
  },
  {
   "cell_type": "code",
   "execution_count": 9,
   "id": "5f6267e7",
   "metadata": {},
   "outputs": [],
   "source": [
    "# Load the SCENIC output \n",
    "scenic_output_file = 'fibroblasts_merged_scenic_output.loom'\n",
    "lf = lp.connect(results_directory + scenic_output_file, mode='r+', validate=False )\n",
    "exprMat = pd.DataFrame( lf[:,:], index=lf.ra.Gene, columns=lf.ca.CellID).T\n",
    "auc_mtx = pd.DataFrame( lf.ca.RegulonsAUC, index=lf.ca.CellID)\n",
    "lf.close()"
   ]
  },
  {
   "cell_type": "code",
   "execution_count": null,
   "id": "e7eaf797",
   "metadata": {},
   "outputs": [],
   "source": [
    "# Add the SCENIC metadata\n",
    "add_scenic_metadata(fibroblasts_merged_scenic, auc_mtx, regulon_signatures)"
   ]
  },
  {
   "cell_type": "markdown",
   "id": "a2873a85",
   "metadata": {},
   "source": [
    "# Cluster the fibroblasts based on AUCell scores"
   ]
  },
  {
   "cell_type": "code",
   "execution_count": null,
   "id": "4decd0a4",
   "metadata": {},
   "outputs": [],
   "source": [
    "# k = 30 looks about reasonable\n",
    "sc.pp.neighbors(fibroblasts_merged_scenic, use_rep='X_aucell', n_neighbors=15)\n",
    "sc.tl.umap(fibroblasts_merged_scenic)\n",
    "sc.pl.umap(fibroblasts_merged_scenic, color='leiden_sub')"
   ]
  },
  {
   "cell_type": "code",
   "execution_count": null,
   "id": "cf11c493",
   "metadata": {},
   "outputs": [],
   "source": [
    "sc.tl.leiden(fibroblasts_merged_scenic, resolution=0.6, key_added = 'leiden_scenic')"
   ]
  },
  {
   "cell_type": "code",
   "execution_count": null,
   "id": "68ac1e88",
   "metadata": {},
   "outputs": [],
   "source": [
    "new_scenic_cluster_names = ['REG-1', 'REG-2', 'REG-3', 'REG-4', 'REG-5',\\\n",
    "                            'REG-6', 'REG-7', 'REG-8', 'REG-9', 'REG-10',\n",
    "                            'REG-11', 'REG-12']\n",
    "fibroblasts_merged_scenic.rename_categories('leiden_scenic', new_scenic_cluster_names)"
   ]
  },
  {
   "cell_type": "code",
   "execution_count": null,
   "id": "7995aa22",
   "metadata": {},
   "outputs": [],
   "source": [
    "# Plot so that we store the new colours\n",
    "sc.pl.umap(fibroblasts_merged_scenic, size=10.0, color='leiden_scenic', palette='Paired')"
   ]
  },
  {
   "cell_type": "code",
   "execution_count": null,
   "id": "9a1db988",
   "metadata": {},
   "outputs": [],
   "source": [
    "# Calculate the DEGs to work out the later intersections\n",
    "sc.tl.rank_genes_groups(fibroblasts_merged_scenic, groupby='leiden_scenic', key_added='leiden_scenic', method='wilcoxon')"
   ]
  },
  {
   "cell_type": "markdown",
   "id": "6759ea81",
   "metadata": {},
   "source": [
    "# Overlap between regulon-based clusters and original annotations"
   ]
  },
  {
   "cell_type": "code",
   "execution_count": null,
   "id": "c8edd7ee",
   "metadata": {},
   "outputs": [],
   "source": [
    "regulon_clusters = fibroblasts_merged_scenic.obs['leiden_scenic'].value_counts().index.tolist()\n",
    "fibroblast_clusters = fibroblasts_merged_scenic.obs['leiden_sub'].value_counts().index.tolist()\n",
    "fibroblast_samples = ['UW P21', 'UW P49', 'SW PWD4', 'SW PWD7', 'LW PWD12', 'LW PWD14', 'LW FIB PWD18', 'LW REG PWD18']\n",
    "fibroblast_positions = fibroblasts_merged_scenic.obs['position'].value_counts().index.tolist()"
   ]
  },
  {
   "cell_type": "code",
   "execution_count": null,
   "id": "18b3c866",
   "metadata": {},
   "outputs": [],
   "source": [
    "# Calculate the Jaccard scores\n",
    "fibroblast_jaccard_regulon_clusters = np.zeros((len(regulon_clusters), len(fibroblast_clusters)))\n",
    "fibroblast_jaccard_regulon_samples = np.zeros((len(regulon_clusters), len(fibroblast_samples)))"
   ]
  },
  {
   "cell_type": "code",
   "execution_count": null,
   "id": "bfec1d0f",
   "metadata": {},
   "outputs": [],
   "source": [
    "from itertools import product"
   ]
  },
  {
   "cell_type": "code",
   "execution_count": null,
   "id": "350bac82",
   "metadata": {},
   "outputs": [],
   "source": [
    "# Calculate the Jaccard index and cluster proportions per sample\n",
    "for regulon, cluster in product(regulon_clusters, fibroblast_clusters):\n",
    "    \n",
    "    regulon_index = regulon_clusters.index(regulon)\n",
    "    cluster_index = fibroblast_clusters.index(cluster)\n",
    "    \n",
    "    num_cells_in_both = fibroblasts_merged_scenic[(fibroblasts_merged_scenic.obs['leiden_sub'].isin([cluster]))\\\n",
    "                                           &(fibroblasts_merged_scenic.obs['leiden_scenic'].isin([regulon]))].n_obs\n",
    "    \n",
    "    num_cells_in_regulon = fibroblasts_merged_scenic[(fibroblasts_merged_scenic.obs['leiden_scenic'].isin([regulon]))].n_obs\n",
    "    num_cells_in_cluster = fibroblasts_merged_scenic[(fibroblasts_merged_scenic.obs['leiden_sub'].isin([cluster]))].n_obs\n",
    "    \n",
    "    fibroblast_jaccard_regulon_clusters[regulon_index, cluster_index] = num_cells_in_both \\\n",
    "                                                                / (num_cells_in_regulon + num_cells_in_cluster - num_cells_in_both)\n"
   ]
  },
  {
   "cell_type": "code",
   "execution_count": null,
   "id": "4a838789",
   "metadata": {},
   "outputs": [],
   "source": [
    "# Calculate the Jaccard index and cluster proportions per sample\n",
    "for regulon, cluster in product(regulon_clusters, fibroblast_samples):\n",
    "    \n",
    "    regulon_index = regulon_clusters.index(regulon)\n",
    "    cluster_index = fibroblast_samples.index(cluster)\n",
    "    \n",
    "    num_cells_in_both = fibroblasts_merged_scenic[(fibroblasts_merged_scenic.obs['sample'].isin([cluster]))\\\n",
    "                                           &(fibroblasts_merged_scenic.obs['leiden_scenic'].isin([regulon]))].n_obs\n",
    "    \n",
    "    num_cells_in_regulon = fibroblasts_merged_scenic[(fibroblasts_merged_scenic.obs['leiden_scenic'].isin([regulon]))].n_obs\n",
    "    num_cells_in_cluster = fibroblasts_merged_scenic[(fibroblasts_merged_scenic.obs['sample'].isin([cluster]))].n_obs\n",
    "    \n",
    "    fibroblast_jaccard_regulon_samples[regulon_index, cluster_index] = num_cells_in_both \\\n",
    "                                                                / (num_cells_in_regulon + num_cells_in_cluster - num_cells_in_both)\n",
    "    "
   ]
  },
  {
   "cell_type": "code",
   "execution_count": null,
   "id": "b7bb9fbb",
   "metadata": {},
   "outputs": [],
   "source": [
    "fibroblast_jaccard_df = pd.DataFrame(fibroblast_jaccard_regulon_clusters, index=regulon_clusters, columns=fibroblast_clusters)\n",
    "\n",
    "sns.set_theme(style=\"ticks\");\n",
    "\n",
    "ax = sns.relplot(data=fibroblast_jaccard_df.T,\n",
    "            linewidth=2.5,\n",
    "            palette=fibroblasts_merged_scenic.uns['leiden_scenic_colors'],\n",
    "            kind='line', alpha=0.75)\n",
    "plt.xlabel('Fibroblast subcluster')\n",
    "plt.ylabel('Jaccard similarity')\n",
    "plt.ylim((0, 0.85))\n",
    "plt.yticks([0, 0.2, 0.4, 0.6, 0.8])\n",
    "plt.xticks(rotation=90)"
   ]
  },
  {
   "cell_type": "code",
   "execution_count": null,
   "id": "546699fc",
   "metadata": {},
   "outputs": [],
   "source": [
    "fibroblast_jaccard_df = pd.DataFrame(fibroblast_jaccard_regulon_samples, index=regulon_clusters, columns=fibroblast_samples)\n",
    "\n",
    "sns.set_theme(style=\"ticks\");\n",
    "\n",
    "ax = sns.relplot(data=fibroblast_jaccard_df.T,\n",
    "            linewidth=2.5,\n",
    "            palette=fibroblasts_merged_scenic.uns['leiden_scenic_colors'],\n",
    "            kind='line', alpha=0.75)\n",
    "plt.xlabel('Wound healing time')\n",
    "plt.ylabel('Jaccard similarity')\n",
    "plt.ylim((0, 0.85))\n",
    "plt.yticks([0, 0.2, 0.4, 0.6, 0.8])\n",
    "plt.xticks(rotation=90)\n"
   ]
  },
  {
   "cell_type": "markdown",
   "id": "3efd7ad1",
   "metadata": {},
   "source": [
    "# Calculate the intersection between the downstream targets of the top regulons and their DEGs"
   ]
  },
  {
   "cell_type": "code",
   "execution_count": null,
   "id": "53842b61",
   "metadata": {},
   "outputs": [],
   "source": [
    "fib_functional_scenic_clusters = []\n",
    "fib_functional_regulons_for_deg = []\n",
    "fib_functional_scenic_degs = []\n",
    "\n",
    "other_functional_scenic_clusters = []\n",
    "other_functional_regulons_for_deg = []\n",
    "other_functional_scenic_degs = []\n",
    "n_top_genes = 300\n",
    "\n",
    "for cluster in fibroblast_scenic_clusters:\n",
    "    top_genes_per_cluster = pd.DataFrame(fibroblasts_merged_scenic.uns['leiden_scenic']['names'])[cluster][0:n_top_genes].tolist()\n",
    "    top_genes = [gene for gene in top_genes_per_cluster if not gene.startswith('Rp') and not gene.startswith('mt-')] # Remove the non-informative genes\n",
    "    top_fib_functional_genes = [gene for gene in top_genes if gene in functional_genes]\n",
    "    top_other_functional_genes = [gene for gene in top_genes if gene not in functional_genes]\n",
    "    regulons_and_targets_per_cluster = regulon_targets_for_reg_clusters[cluster]\n",
    "    \n",
    "    for gene in top_fib_functional_genes:\n",
    "        \n",
    "        relevant_regulons = []\n",
    "        \n",
    "        for reg in regulons_and_targets_per_cluster:\n",
    "            \n",
    "            targets = regulon_targets_for_reg_clusters[cluster][reg][0].genes\n",
    "            \n",
    "            if gene in targets:\n",
    "                \n",
    "                relevant_regulons.append(reg)\n",
    "                \n",
    "        joined_regulons = ', '.join(sorted(relevant_regulons))\n",
    "        \n",
    "        fib_functional_scenic_clusters.append(cluster)\n",
    "        fib_functional_scenic_degs.append(gene)\n",
    "        fib_functional_regulons_for_deg.append(joined_regulons)\n",
    "        \n",
    "    for gene in top_other_functional_genes:\n",
    "        \n",
    "        relevant_regulons = []\n",
    "        \n",
    "        for reg in regulons_and_targets_per_cluster:\n",
    "            \n",
    "            targets = regulon_targets_for_reg_clusters[cluster][reg][0].genes\n",
    "            \n",
    "            if gene in targets:\n",
    "                \n",
    "                relevant_regulons.append(reg)\n",
    "                \n",
    "        joined_regulons = ', '.join(sorted(relevant_regulons))\n",
    "        \n",
    "        other_functional_scenic_clusters.append(cluster)\n",
    "        other_functional_scenic_degs.append(gene)\n",
    "        other_functional_regulons_for_deg.append(joined_regulons)\n",
    "        \n",
    "scenic_fib_functional_regulons_df = pd.DataFrame(data={'Cluster': fib_functional_scenic_clusters,\n",
    "                                       'Regulon': fib_functional_regulons_for_deg,\n",
    "                                       'Target': fib_functional_scenic_degs})\n",
    "\n",
    "scenic_other_functional_regulons_df = pd.DataFrame(data={'Cluster': fib_other_scenic_clusters,\n",
    "                                       'Regulon': fib_other_functional_regulons_for_deg,\n",
    "                                       'Target': fib_other_functional_scenic_degs})\n"
   ]
  },
  {
   "cell_type": "code",
   "execution_count": null,
   "id": "ebc817bc",
   "metadata": {},
   "outputs": [],
   "source": [
    "# Get the DEGs for a specific cluster\n",
    "cluster = 'REG-3'\n",
    "n_top_genes = 50\n",
    "scenic_fib_functional_regulons_df[scenic_fib_functional_regulons_df['Cluster'] == cluster][0:50]"
   ]
  },
  {
   "cell_type": "code",
   "execution_count": null,
   "id": "b97ec02a",
   "metadata": {},
   "outputs": [],
   "source": [
    "scenic_other_functional_regulons_df[scenic_other_functional_regulons_df['Cluster'] == cluster][0:50]"
   ]
  },
  {
   "cell_type": "code",
   "execution_count": null,
   "id": "f9b8c0b8",
   "metadata": {},
   "outputs": [],
   "source": [
    "# We need to check that the DEGs are actually specific to that cluster\n",
    "for gene in scenic_fib_functional_regulons_df[scenic_fib_functional_regulons_df['Cluster'] == cluster][0:50]['Target']:\n",
    "    sc.pl.umap(fibroblasts_merged, color=gene, cmap=colour_map, vmin=0.0001, size=10)"
   ]
  },
  {
   "cell_type": "code",
   "execution_count": null,
   "id": "fd85e28e",
   "metadata": {},
   "outputs": [],
   "source": [
    "# We need to check that the DEGs are actually specific to that cluster\n",
    "for gene in scenic_other_functional_regulons_df[scenic_other_functional_regulons_df['Cluster'] == cluster][0:50]['Target']:\n",
    "    sc.pl.umap(fibroblasts_merged, color=gene, cmap=colour_map, vmin=0.0001, size=10)"
   ]
  }
 ],
 "metadata": {
  "kernelspec": {
   "display_name": "Python 3 (ipykernel)",
   "language": "python",
   "name": "python3"
  },
  "language_info": {
   "codemirror_mode": {
    "name": "ipython",
    "version": 3
   },
   "file_extension": ".py",
   "mimetype": "text/x-python",
   "name": "python",
   "nbconvert_exporter": "python",
   "pygments_lexer": "ipython3",
   "version": "3.8.14"
  }
 },
 "nbformat": 4,
 "nbformat_minor": 5
}
