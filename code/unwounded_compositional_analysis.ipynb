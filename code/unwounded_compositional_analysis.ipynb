{
 "cells": [
  {
   "cell_type": "code",
   "execution_count": null,
   "id": "4280f21b",
   "metadata": {},
   "outputs": [],
   "source": [
    "# Load the relevant packages.\n",
    "import numpy as np\n",
    "import pandas as pd\n",
    "import scanpy as sc\n",
    "import matplotlib.pyplot as plt\n",
    "import seaborn as sns\n",
    "import anndata\n",
    "from scipy import sparse\n",
    "\n",
    "sc.settings.verbosity = 3 # Possible values: (0) errors, (1) warnings, (2) info, (3) hints\n",
    "sc.settings.set_figure_params(dpi = 100, facecolor='white', fontsize=18, transparent=True)\n",
    "\n",
    "from sccoda.util import comp_ana as mod\n",
    "from sccoda.util import cell_composition_data as dat\n",
    "from sccoda.util import data_visualization as viz"
   ]
  },
  {
   "cell_type": "code",
   "execution_count": null,
   "id": "359b6757",
   "metadata": {},
   "outputs": [],
   "source": [
    "# Load the processed fibroblast and immune data\n",
    "results_directory = '../data/' # Initialise the results file"
   ]
  },
  {
   "cell_type": "code",
   "execution_count": null,
   "id": "1126fa7c",
   "metadata": {},
   "outputs": [],
   "source": [
    "# Load the data\n",
    "results_name = 'integratedskindata.h5ad'\n",
    "skin_merged = sc.read_h5ad(results_directory + results_name)\n",
    "unwounded_merged = skin_merged[skin_merged.obs['sample'].isin(['UW P49', 'UW P21'])]"
   ]
  },
  {
   "cell_type": "code",
   "execution_count": null,
   "id": "734f5b61",
   "metadata": {},
   "outputs": [],
   "source": [
    "# Do some renaming\n",
    "unwounded_merged.obs['sub_sample'].cat.rename_categories({'UW_1_H20':'UW_P49_1',\n",
    "                                                          'UW_1_P20':'UW_P21_1',\n",
    "                                                          'UW_2_H20':'UW_P49_2',\n",
    "                                                          'UW_2_P20':'UW_P21_2',\n",
    "                                                          'UW_3_P20':'UW_P21_3'}, inplace=True)\n",
    "\n",
    "unwounded_merged.obs['sub_sample'].cat.reorder_categories(['UW_P21_1', 'UW_P21_2',\n",
    "                                                           'UW_P21_3', 'UW_P49_1',\n",
    "                                                           'UW_P49_2'], inplace=True)\n",
    "\n",
    "\n",
    "\n",
    "unwounded_merged.obs['leiden'].cat.rename_categories({'Epidermal 1':'EPI-1',\n",
    "                                                      'Epidermal 2':'EPI-2',\n",
    "                                                      'Epidermal 3':'EPI-3',\n",
    "                                                      'Epidermal 4':'EPI-4',\n",
    "                                                      'Epidermal 5':'EPI-5',\n",
    "                                                      'Fibroblast 1':'FIB-1',\n",
    "                                                      'Fibroblast 2':'FIB-2',\n",
    "                                                      'Fibroblast 3':'FIB-3',\n",
    "                                                      'Fibroblast 4':'FIB-4',\n",
    "                                                      'Immune 1':'IMM-1',\n",
    "                                                      'Immune 2':'IMM-2',\n",
    "                                                      'Immune 3':'IMM-3',\n",
    "                                                      'Pericyte':'PERI',\n",
    "                                                      'Endothelial':'ENDO',\n",
    "                                                      'Schwann':'SCH',\n",
    "                                                      'Lymphatic endothelial':'LYM-E',\n",
    "                                                      'Melanocyte':'MEL',\n",
    "                                                      'Langerhans cell':'LC',\n",
    "                                                      'Skeletal muscle':'SKEL',\n",
    "                                                      'Smooth muscle':'SMC'}, inplace=True)\n",
    "\n",
    "unwounded_merged.obs['leiden'].cat.reorder_categories(['EPI-1',\n",
    "                                                       'EPI-2',\n",
    "                                                       'EPI-3',\n",
    "                                                       'EPI-4',\n",
    "                                                       'EPI-5',\n",
    "                                                       'FIB-1',\n",
    "                                                       'FIB-2',\n",
    "                                                       'FIB-3',\n",
    "                                                       'FIB-4',\n",
    "                                                       'IMM-1',\n",
    "                                                       'IMM-2',\n",
    "                                                       'IMM-3',\n",
    "                                                       'PERI',\n",
    "                                                       'ENDO',\n",
    "                                                       'SCH',\n",
    "                                                       'LYM-E',\n",
    "                                                       'MEL',\n",
    "                                                       'LC',\n",
    "                                                       'SKEL',\n",
    "                                                       'SMC'], inplace=True)"
   ]
  },
  {
   "cell_type": "markdown",
   "id": "b9c0dadc",
   "metadata": {},
   "source": [
    "# Compare across all cell types"
   ]
  },
  {
   "cell_type": "code",
   "execution_count": null,
   "id": "21917f47",
   "metadata": {},
   "outputs": [],
   "source": [
    "unwounded_sccoda = dat.from_scanpy(unwounded_merged,\n",
    "                                     cell_type_identifier='leiden',\n",
    "                                     sample_identifier='sub_sample')\n",
    "unwounded_sccoda.obs['Condition'] = pd.Series(['P21', 'P21', 'P21', 'P49', 'P49']).values"
   ]
  },
  {
   "cell_type": "code",
   "execution_count": null,
   "id": "21cc9e44",
   "metadata": {},
   "outputs": [],
   "source": [
    "model_uw = mod.CompositionalAnalysis(unwounded_sccoda, formula=\"Condition\", reference_cell_type=\"automatic\")\n",
    "uw_sccoda_results = model_uw.sample_hmc()"
   ]
  },
  {
   "cell_type": "code",
   "execution_count": null,
   "id": "01de4736",
   "metadata": {},
   "outputs": [],
   "source": [
    "uw_sccoda_results.set_fdr(est_fdr=0.05)\n",
    "uw_sccoda_results.credible_effects()"
   ]
  },
  {
   "cell_type": "code",
   "execution_count": null,
   "id": "5f26a850",
   "metadata": {},
   "outputs": [],
   "source": [
    "uw_sccoda_results.set_fdr(est_fdr=0.01)\n",
    "uw_sccoda_results.credible_effects()"
   ]
  },
  {
   "cell_type": "code",
   "execution_count": null,
   "id": "ab5d2ac1",
   "metadata": {},
   "outputs": [],
   "source": [
    "uw_sccoda_results.set_fdr(est_fdr=0.001)\n",
    "uw_sccoda_results.credible_effects()"
   ]
  },
  {
   "cell_type": "code",
   "execution_count": null,
   "id": "3b82528c",
   "metadata": {},
   "outputs": [],
   "source": [
    "# Plot the different proportions\n",
    "plt.rcParams['figure.figsize'] = (12, 6)\n",
    "plt.rcParams['font.family'] = 'Arial'\n",
    "# fig, ax  = plt.subplots\n",
    "ax = viz.boxplots(unwounded_sccoda, feature_name=\"Condition\", y_scale='relative', add_dots=True, cmap='colorblind')\n",
    "plt.ylim(-0.01, 0.65)\n",
    "plt.xlabel('Cell cluster')\n",
    "ax.spines['top'].set_visible(False)\n",
    "ax.spines['right'].set_visible(False)\n",
    "for line in ax.get_lines():\n",
    "    line.set_color('black')\n",
    "    "
   ]
  },
  {
   "cell_type": "markdown",
   "id": "19319894",
   "metadata": {},
   "source": [
    "# Epidermal cells only"
   ]
  },
  {
   "cell_type": "code",
   "execution_count": null,
   "id": "e95ac26a",
   "metadata": {},
   "outputs": [],
   "source": [
    "epidermal_merged = unwounded_merged[unwounded_merged.obs['leiden'].str.startswith('EPI-')]\n",
    "\n",
    "epidermal_merged.obs['sub_sample'].cat.rename_categories({'UW_1_H20':'UW_P49_1',\n",
    "                                                          'UW_1_P20':'UW_P21_1',\n",
    "                                                          'UW_2_H20':'UW_P49_2',\n",
    "                                                          'UW_2_P20':'UW_P21_2',\n",
    "                                                          'UW_3_P20':'UW_P21_3'}, inplace=True)\n",
    "\n",
    "epidermal_merged.obs['sub_sample'].cat.reorder_categories(['UW_P21_1', 'UW_P21_2',\n",
    "                                                           'UW_P21_3', 'UW_P49_1',\n",
    "                                                           'UW_P49_2'], inplace=True)"
   ]
  },
  {
   "cell_type": "code",
   "execution_count": null,
   "id": "58d1d49d",
   "metadata": {},
   "outputs": [],
   "source": [
    "# Define scCODA object\n",
    "epidermal_sccoda = dat.from_scanpy(epidermal_merged,\n",
    "                                     cell_type_identifier='leiden_sub',\n",
    "                                     sample_identifier='sub_sample')\n",
    "epidermal_sccoda.obs['Condition'] = pd.Series(['P21', 'P21', 'P21', 'P49', 'P49']).values"
   ]
  },
  {
   "cell_type": "code",
   "execution_count": null,
   "id": "44949c4a",
   "metadata": {},
   "outputs": [],
   "source": [
    "# Train model\n",
    "model_epi = mod.CompositionalAnalysis(epidermal_sccoda, formula=\"Condition\", reference_cell_type=\"automatic\")\n",
    "epi_sccoda_results = model_epi.sample_hmc()"
   ]
  },
  {
   "cell_type": "code",
   "execution_count": null,
   "id": "d9cf3f57",
   "metadata": {},
   "outputs": [],
   "source": [
    "epi_sccoda_results.set_fdr(est_fdr=0.05)\n",
    "epi_sccoda_results.credible_effects()"
   ]
  },
  {
   "cell_type": "code",
   "execution_count": null,
   "id": "5f5ba78c",
   "metadata": {},
   "outputs": [],
   "source": [
    "epi_sccoda_results.set_fdr(est_fdr=0.01)\n",
    "epi_sccoda_results.credible_effects()"
   ]
  },
  {
   "cell_type": "code",
   "execution_count": null,
   "id": "dda96c0b",
   "metadata": {},
   "outputs": [],
   "source": [
    "epi_sccoda_results.set_fdr(est_fdr=0.001)\n",
    "epi_sccoda_results.credible_effects()"
   ]
  },
  {
   "cell_type": "code",
   "execution_count": null,
   "id": "00f52a8a",
   "metadata": {},
   "outputs": [],
   "source": [
    "# Plot the different proportions\n",
    "plt.rcParams['figure.figsize'] = (12, 6)\n",
    "plt.rcParams['font.family'] = 'Arial'\n",
    "# fig, ax  = plt.subplots\n",
    "ax = viz.boxplots(epidermal_sccoda, feature_name=\"Condition\", y_scale='relative', add_dots=True, cmap='colorblind')\n",
    "plt.ylim(-0.01, 0.65)\n",
    "plt.xlabel('Cell cluster')\n",
    "ax.spines['top'].set_visible(False)\n",
    "ax.spines['right'].set_visible(False)\n",
    "for line in ax.get_lines():\n",
    "    line.set_color('black')\n",
    "    "
   ]
  },
  {
   "cell_type": "markdown",
   "id": "6ccabf86",
   "metadata": {},
   "source": [
    "# Fibroblasts"
   ]
  },
  {
   "cell_type": "code",
   "execution_count": null,
   "id": "6dedab43",
   "metadata": {},
   "outputs": [],
   "source": [
    "# Isolate fibroblasts this way to avoid the initial batch of RBCs\n",
    "fibroblast_merged = unwounded_merged[unwounded_merged.obs['leiden'].str.startswith('FIB')]\n",
    "fibroblast_merged = fibroblast_merged[fibroblast_merged.obs['leiden_sub'] != 'RBC']\n",
    "\n",
    "fibroblast_merged.obs['sub_sample'].cat.rename_categories({'UW_1_H20':'UW_P49_1',\n",
    "                                                          'UW_1_P20':'UW_P21_1',\n",
    "                                                          'UW_2_H20':'UW_P49_2',\n",
    "                                                          'UW_2_P20':'UW_P21_2',\n",
    "                                                          'UW_3_P20':'UW_P21_3'}, inplace=True)\n",
    "\n",
    "fibroblast_merged.obs['sub_sample'].cat.reorder_categories(['UW_P21_1', 'UW_P21_2',\n",
    "                                                           'UW_P21_3', 'UW_P49_1',\n",
    "                                                           'UW_P49_2'], inplace=True)\n",
    "\n",
    "fibroblast_merged.obs['leiden_sub'].cat.reorder_categories(['DP', 'FIB-II', 'FIB-III', 'FIB-IV',\n",
    "                                                            'FIB-VI', 'FIB-VII', 'FIB-VIII', 'FIB-IX',\n",
    "                                                            'FIB-X'], inplace=True)"
   ]
  },
  {
   "cell_type": "code",
   "execution_count": null,
   "id": "180cfd02",
   "metadata": {},
   "outputs": [],
   "source": [
    "fibroblast_sccoda = dat.from_scanpy(fibroblast_merged,\n",
    "                                     cell_type_identifier='leiden_sub',\n",
    "                                     sample_identifier='sub_sample')\n",
    "fibroblast_sccoda.obs['Condition'] = pd.Series(['P21', 'P21', 'P21', 'P49', 'P49']).values"
   ]
  },
  {
   "cell_type": "code",
   "execution_count": null,
   "id": "1a9dbed1",
   "metadata": {},
   "outputs": [],
   "source": [
    "# Train model\n",
    "model_fib = mod.CompositionalAnalysis(fibroblast_sccoda, formula=\"Condition\", reference_cell_type=\"automatic\")\n",
    "fib_sccoda_results = model_fib.sample_hmc()"
   ]
  },
  {
   "cell_type": "code",
   "execution_count": null,
   "id": "2f99633d",
   "metadata": {},
   "outputs": [],
   "source": [
    "fib_sccoda_results.set_fdr(est_fdr=0.05)\n",
    "fib_sccoda_results.credible_effects()"
   ]
  },
  {
   "cell_type": "code",
   "execution_count": null,
   "id": "c964dbe2",
   "metadata": {},
   "outputs": [],
   "source": [
    "fib_sccoda_results.set_fdr(est_fdr=0.01)\n",
    "fib_sccoda_results.credible_effects()"
   ]
  },
  {
   "cell_type": "code",
   "execution_count": null,
   "id": "90680701",
   "metadata": {},
   "outputs": [],
   "source": [
    "fib_sccoda_results.set_fdr(est_fdr=0.001)\n",
    "fib_sccoda_results.credible_effects()"
   ]
  },
  {
   "cell_type": "code",
   "execution_count": null,
   "id": "2814a826",
   "metadata": {},
   "outputs": [],
   "source": [
    "# Plot the different proportions\n",
    "plt.rcParams['figure.figsize'] = (12, 6)\n",
    "plt.rcParams['font.family'] = 'Arial'\n",
    "# fig, ax  = plt.subplots\n",
    "ax = viz.boxplots(fibroblast_sccoda, feature_name=\"Condition\", y_scale='relative', add_dots=True, cmap='colorblind')\n",
    "plt.ylim(-0.01, 0.65)\n",
    "plt.xlabel('Cell cluster')\n",
    "ax.spines['top'].set_visible(False)\n",
    "ax.spines['right'].set_visible(False)\n",
    "for line in ax.get_lines():\n",
    "    line.set_color('black')\n",
    "    "
   ]
  },
  {
   "cell_type": "markdown",
   "id": "583cede9",
   "metadata": {},
   "source": [
    "# Immune cells"
   ]
  },
  {
   "cell_type": "code",
   "execution_count": null,
   "id": "42a5633e",
   "metadata": {},
   "outputs": [],
   "source": [
    "immune_merged = unwounded_merged[unwounded_merged.obs['leiden'].str.startswith('Immune')]\n",
    "immune_merged = immune_merged[immune_merged.obs['leiden_sub'] != 'RBC']\n",
    "\n",
    "immune_merged.obs['sub_sample'].cat.rename_categories({'UW_1_H20':'UW_P49_1',\n",
    "                                                          'UW_1_P20':'UW_P21_1',\n",
    "                                                          'UW_2_H20':'UW_P49_2',\n",
    "                                                          'UW_2_P20':'UW_P21_2',\n",
    "                                                          'UW_3_P20':'UW_P21_3'}, inplace=True)\n",
    "\n",
    "immune_merged.obs['sub_sample'].cat.reorder_categories(['UW_P21_1', 'UW_P21_2',\n",
    "                                                           'UW_P21_3', 'UW_P49_1',\n",
    "                                                           'UW_P49_2'], inplace=True)"
   ]
  },
  {
   "cell_type": "code",
   "execution_count": null,
   "id": "8682d881",
   "metadata": {},
   "outputs": [],
   "source": [
    "immune_sccoda = dat.from_scanpy(immune_merged,\n",
    "                                     cell_type_identifier='leiden_sub',\n",
    "                                     sample_identifier='sub_sample')\n",
    "immune_sccoda.obs['Condition'] = pd.Series(['P21', 'P21', 'P21', 'P49', 'P49']).values"
   ]
  },
  {
   "cell_type": "code",
   "execution_count": null,
   "id": "82733187",
   "metadata": {},
   "outputs": [],
   "source": [
    "model_imm = mod.CompositionalAnalysis(immune_sccoda, formula=\"Condition\", reference_cell_type=\"automatic\")\n",
    "immune_sccoda_results = model_imm.sample_hmc()"
   ]
  },
  {
   "cell_type": "code",
   "execution_count": null,
   "id": "1a9d56f6",
   "metadata": {},
   "outputs": [],
   "source": [
    "immune_sccoda_results.set_fdr(est_fdr=0.05)\n",
    "immune_sccoda_results.credible_effects()"
   ]
  },
  {
   "cell_type": "code",
   "execution_count": null,
   "id": "448d222f",
   "metadata": {},
   "outputs": [],
   "source": [
    "immune_sccoda_results.set_fdr(est_fdr=0.01)\n",
    "immune_sccoda_results.credible_effects()"
   ]
  },
  {
   "cell_type": "code",
   "execution_count": null,
   "id": "be5c3f3c",
   "metadata": {},
   "outputs": [],
   "source": [
    "immune_sccoda_results.set_fdr(est_fdr=0.001)\n",
    "immune_sccoda_results.credible_effects()"
   ]
  },
  {
   "cell_type": "code",
   "execution_count": null,
   "id": "c2df653b",
   "metadata": {},
   "outputs": [],
   "source": [
    "# Plot the different proportions\n",
    "plt.rcParams['figure.figsize'] = (12, 6)\n",
    "plt.rcParams['font.family'] = 'Arial'\n",
    "# fig, ax  = plt.subplots\n",
    "ax = viz.boxplots(immune_sccoda, feature_name=\"Condition\", y_scale='relative', add_dots=True, cmap='colorblind')\n",
    "plt.ylim(-0.01, 0.65)\n",
    "plt.xlabel('Cell cluster')\n",
    "ax.spines['top'].set_visible(False)\n",
    "ax.spines['right'].set_visible(False)\n",
    "for line in ax.get_lines():\n",
    "    line.set_color('black')\n",
    "    "
   ]
  },
  {
   "cell_type": "markdown",
   "id": "f11dafd1",
   "metadata": {},
   "source": [
    "# Pericytes"
   ]
  },
  {
   "cell_type": "code",
   "execution_count": null,
   "id": "daa16f91",
   "metadata": {},
   "outputs": [],
   "source": [
    "pericyte_merged = unwounded_merged[unwounded_merged.obs['leiden'] == 'PERI']\n",
    "\n",
    "pericyte_merged.obs['sub_sample'].cat.rename_categories({'UW_1_H20':'UW_P49_1',\n",
    "                                                          'UW_1_P20':'UW_P21_1',\n",
    "                                                          'UW_2_H20':'UW_P49_2',\n",
    "                                                          'UW_2_P20':'UW_P21_2',\n",
    "                                                          'UW_3_P20':'UW_P21_3'}, inplace=True)\n",
    "\n",
    "pericyte_merged.obs['sub_sample'].cat.reorder_categories(['UW_P21_1', 'UW_P21_2',\n",
    "                                                           'UW_P21_3', 'UW_P49_1',\n",
    "                                                           'UW_P49_2'], inplace=True)"
   ]
  },
  {
   "cell_type": "code",
   "execution_count": null,
   "id": "7d4ea8cd",
   "metadata": {},
   "outputs": [],
   "source": [
    "pericyte_sccoda = dat.from_scanpy(pericyte_merged,\n",
    "                                     cell_type_identifier='leiden_sub',\n",
    "                                     sample_identifier='sub_sample')\n",
    "pericyte_sccoda.obs['Condition'] = pd.Series(['P21', 'P21', 'P21', 'P49', 'P49']).values"
   ]
  },
  {
   "cell_type": "code",
   "execution_count": null,
   "id": "7adb4eb7",
   "metadata": {},
   "outputs": [],
   "source": [
    "model_peri = mod.CompositionalAnalysis(pericyte_sccoda, formula=\"Condition\", reference_cell_type=\"automatic\")\n",
    "pericyte_sccoda_results = model_peri.sample_hmc()"
   ]
  },
  {
   "cell_type": "code",
   "execution_count": null,
   "id": "aa83539f",
   "metadata": {},
   "outputs": [],
   "source": [
    "pericyte_sccoda_results.set_fdr(est_fdr=0.05)\n",
    "pericyte_sccoda_results.credible_effects()"
   ]
  },
  {
   "cell_type": "code",
   "execution_count": null,
   "id": "797a4dc3",
   "metadata": {},
   "outputs": [],
   "source": [
    "pericyte_sccoda_results.set_fdr(est_fdr=0.01)\n",
    "pericyte_sccoda_results.credible_effects()"
   ]
  },
  {
   "cell_type": "code",
   "execution_count": null,
   "id": "96f59abb",
   "metadata": {},
   "outputs": [],
   "source": [
    "pericyte_sccoda_results.set_fdr(est_fdr=0.001)\n",
    "pericyte_sccoda_results.credible_effects()"
   ]
  },
  {
   "cell_type": "code",
   "execution_count": null,
   "id": "16cfd8ad",
   "metadata": {},
   "outputs": [],
   "source": [
    "plt.rcParams['figure.figsize'] = (8, 6)\n",
    "plt.rcParams['font.family'] = 'Arial'\n",
    "# fig, ax  = plt.subplots\n",
    "ax = viz.boxplots(pericyte_sccoda, feature_name=\"Condition\", y_scale='relative', add_dots=True, cmap='colorblind')\n",
    "plt.ylim(-0.01, 0.9)\n",
    "plt.xlabel('Cell cluster')\n",
    "ax.spines['top'].set_visible(False)\n",
    "ax.spines['right'].set_visible(False)\n",
    "\n",
    "for line in ax.get_lines():\n",
    "    line.set_color('black')\n",
    "# plt.show()"
   ]
  },
  {
   "cell_type": "markdown",
   "id": "c8d6002d",
   "metadata": {},
   "source": [
    "# Endothelial cells"
   ]
  },
  {
   "cell_type": "code",
   "execution_count": null,
   "id": "36dde56b",
   "metadata": {},
   "outputs": [],
   "source": [
    "endothelial_merged = unwounded_merged[unwounded_merged.obs['leiden'].str.startswith('ENDO')]\n",
    "\n",
    "endothelial_merged.obs['sub_sample'].cat.rename_categories({'UW_1_H20':'UW_P49_1',\n",
    "                                                          'UW_1_P20':'UW_P21_1',\n",
    "                                                          'UW_2_H20':'UW_P49_2',\n",
    "                                                          'UW_2_P20':'UW_P21_2',\n",
    "                                                          'UW_3_P20':'UW_P21_3'}, inplace=True)\n",
    "\n",
    "endothelial_merged.obs['sub_sample'].cat.reorder_categories(['UW_P21_1', 'UW_P21_2',\n",
    "                                                           'UW_P21_3', 'UW_P49_1',\n",
    "                                                           'UW_P49_2'], inplace=True)"
   ]
  },
  {
   "cell_type": "code",
   "execution_count": null,
   "id": "57a22b3b",
   "metadata": {},
   "outputs": [],
   "source": [
    "endothelial_sccoda = dat.from_scanpy(endothelial_merged,\n",
    "                                     cell_type_identifier='leiden_sub',\n",
    "                                     sample_identifier='sub_sample')\n",
    "endothelial_sccoda.obs['Condition'] = pd.Series(['P21', 'P21', 'P21', 'P49', 'P49']).values"
   ]
  },
  {
   "cell_type": "code",
   "execution_count": null,
   "id": "e92524c6",
   "metadata": {},
   "outputs": [],
   "source": [
    "model_endo = mod.CompositionalAnalysis(endothelial_sccoda, formula=\"Condition\", reference_cell_type=\"automatic\")\n",
    "endo_sccoda_results = model_endo.sample_hmc()"
   ]
  },
  {
   "cell_type": "code",
   "execution_count": null,
   "id": "b3cef78a",
   "metadata": {},
   "outputs": [],
   "source": [
    "endo_sccoda_results.set_fdr(est_fdr=0.05)\n",
    "endo_sccoda_results.credible_effects()"
   ]
  },
  {
   "cell_type": "code",
   "execution_count": null,
   "id": "94976a47",
   "metadata": {},
   "outputs": [],
   "source": [
    "endo_sccoda_results.set_fdr(est_fdr=0.01)\n",
    "endo_sccoda_results.credible_effects()"
   ]
  },
  {
   "cell_type": "code",
   "execution_count": null,
   "id": "3bd5be13",
   "metadata": {},
   "outputs": [],
   "source": [
    "endo_sccoda_results.set_fdr(est_fdr=0.001)\n",
    "endo_sccoda_results.credible_effects()"
   ]
  },
  {
   "cell_type": "code",
   "execution_count": null,
   "id": "7a2e496f",
   "metadata": {},
   "outputs": [],
   "source": [
    "plt.rcParams['figure.figsize'] = (8, 6)\n",
    "plt.rcParams['font.family'] = 'Arial'\n",
    "# fig, ax  = plt.subplots\n",
    "ax = viz.boxplots(endothelial_sccoda, feature_name=\"Condition\", y_scale='relative', add_dots=True, cmap='colorblind')\n",
    "plt.ylim(-0.01, 0.9)\n",
    "plt.xlabel('Cell cluster')\n",
    "ax.spines['top'].set_visible(False)\n",
    "ax.spines['right'].set_visible(False)\n",
    "\n",
    "for line in ax.get_lines():\n",
    "    line.set_color('black')\n",
    "# plt.show()"
   ]
  },
  {
   "cell_type": "markdown",
   "id": "c39acff3",
   "metadata": {},
   "source": [
    "# Schwann cells"
   ]
  },
  {
   "cell_type": "code",
   "execution_count": null,
   "id": "64ac8d95",
   "metadata": {},
   "outputs": [],
   "source": [
    "schwann_merged = unwounded_merged[unwounded_merged.obs['leiden'].str.startswith('SCH')]\n",
    "\n",
    "schwann_merged.obs['sub_sample'].cat.rename_categories({'UW_1_H20':'UW_P49_1',\n",
    "                                                          'UW_1_P20':'UW_P21_1',\n",
    "                                                          'UW_2_H20':'UW_P49_2',\n",
    "                                                          'UW_2_P20':'UW_P21_2',\n",
    "                                                          'UW_3_P20':'UW_P21_3'}, inplace=True)\n",
    "\n",
    "schwann_merged.obs['sub_sample'].cat.reorder_categories(['UW_P21_1', 'UW_P21_2',\n",
    "                                                           'UW_P21_3', 'UW_P49_1',\n",
    "                                                           'UW_P49_2'], inplace=True)"
   ]
  },
  {
   "cell_type": "code",
   "execution_count": null,
   "id": "9abe36d0",
   "metadata": {},
   "outputs": [],
   "source": [
    "schw_sccoda = dat.from_scanpy(schwann_merged,\n",
    "                                     cell_type_identifier='leiden_sub',\n",
    "                                     sample_identifier='sub_sample')\n",
    "schw_sccoda.obs['Condition'] = pd.Series(['P21', 'P21', 'P21', 'P49', 'P49']).values"
   ]
  },
  {
   "cell_type": "code",
   "execution_count": null,
   "id": "2086e62a",
   "metadata": {},
   "outputs": [],
   "source": [
    "model_schw = mod.CompositionalAnalysis(schw_sccoda, formula=\"Condition\", reference_cell_type=\"automatic\")\n",
    "schw_sccoda_results = model_schw.sample_hmc()"
   ]
  },
  {
   "cell_type": "code",
   "execution_count": null,
   "id": "68e74f66",
   "metadata": {},
   "outputs": [],
   "source": [
    "schw_sccoda_results.set_fdr(est_fdr=0.05)\n",
    "schw_sccoda_results.credible_effects()"
   ]
  },
  {
   "cell_type": "code",
   "execution_count": null,
   "id": "78f788b2",
   "metadata": {},
   "outputs": [],
   "source": [
    "schw_sccoda_results.set_fdr(est_fdr=0.01)\n",
    "schw_sccoda_results.credible_effects()"
   ]
  },
  {
   "cell_type": "code",
   "execution_count": null,
   "id": "dcf72db3",
   "metadata": {},
   "outputs": [],
   "source": [
    "schw_sccoda_results.set_fdr(est_fdr=0.001)\n",
    "schw_sccoda_results.credible_effects()"
   ]
  },
  {
   "cell_type": "code",
   "execution_count": null,
   "id": "0d7a701a",
   "metadata": {},
   "outputs": [],
   "source": [
    "plt.rcParams['figure.figsize'] = (8, 6)\n",
    "plt.rcParams['font.family'] = 'Arial'\n",
    "# fig, ax  = plt.subplots\n",
    "ax = viz.boxplots(schw_sccoda, feature_name=\"Condition\", y_scale='relative', add_dots=True, cmap='colorblind')\n",
    "plt.ylim(-0.01, 0.9)\n",
    "plt.xlabel('Cell cluster')\n",
    "ax.spines['top'].set_visible(False)\n",
    "ax.spines['right'].set_visible(False)\n",
    "\n",
    "for line in ax.get_lines():\n",
    "    line.set_color('black')\n",
    "# plt.show()"
   ]
  }
 ],
 "metadata": {
  "kernelspec": {
   "display_name": "Python 3 (ipykernel)",
   "language": "python",
   "name": "python3"
  },
  "language_info": {
   "codemirror_mode": {
    "name": "ipython",
    "version": 3
   },
   "file_extension": ".py",
   "mimetype": "text/x-python",
   "name": "python",
   "nbconvert_exporter": "python",
   "pygments_lexer": "ipython3",
   "version": "3.8.14"
  }
 },
 "nbformat": 4,
 "nbformat_minor": 5
}
